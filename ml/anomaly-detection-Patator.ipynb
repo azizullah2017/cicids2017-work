{
 "cells": [
  {
   "attachments": {},
   "cell_type": "markdown",
   "metadata": {
    "colab_type": "text",
    "id": "3bd2vXMeSx6s"
   },
   "source": [
    "# Steps for implementation\n",
    "\n",
    "Reading CSV\n",
    "\n",
    "Data Cleaning\n",
    "\n",
    "Features\n",
    "\n",
    "Applying HBOS to detect outliers from the data"
   ]
  },
  {
   "cell_type": "code",
   "execution_count": 2,
   "metadata": {
    "colab": {},
    "colab_type": "code",
    "id": "O46P3metTaPc"
   },
   "outputs": [],
   "source": [
    "#Importing Necessary Modules\n",
    "import pandas as pd\n",
    "import matplotlib.pyplot as plt\n",
    "import numpy as np\n",
    "import time\n",
    "from sklearn.metrics import accuracy_score\n",
    "from sklearn.model_selection import train_test_split     # import module for train test split\n",
    "from pyod.models.hbos import HBOS\n",
    "from pyod.utils.data import evaluate_print"
   ]
  },
  {
   "cell_type": "code",
   "execution_count": 10,
   "metadata": {},
   "outputs": [],
   "source": [
    "# df1=pd.read_csv(\"./data/Friday-WorkingHours-Afternoon-DDos.pcap_ISCX.csv\")\n",
    "# print(df1[' Label'].value_counts())\n",
    "# DDoS      128027\n",
    "# BENIGN     97718\n",
    "# Name:  Label, dtype: int64\n",
    "\n",
    "# df2=pd.read_csv(\"./data/Friday-WorkingHours-Afternoon-PortScan.pcap_ISCX.csv\")\n",
    "# print(df2[' Label'].value_counts())\n",
    "# PortScan    158930\n",
    "# BENIGN      127537\n",
    "# Name:  Label, dtype: int64\n",
    "\n",
    "# df3=pd.read_csv(\"./data/Friday-WorkingHours-Morning.pcap_ISCX.csv\")\n",
    "# print(df3[' Label'].value_counts())\n",
    "# BENIGN    189067\n",
    "# Bot         1966\n",
    "# Name:  Label, dtype: int64\n",
    "\n",
    "# df4=pd.read_csv(\"./data/Monday-WorkingHours.pcap_ISCX.csv\")\n",
    "# print(df4[' Label'].value_counts())\n",
    "# BENIGN    529918\n",
    "# Name:  Label, dtype: int64\n",
    "\n",
    "# df5=pd.read_csv(\"./data/Thursday-WorkingHours-Afternoon-Infilteration.pcap_ISCX.csv\")\n",
    "# print(df5[' Label'].value_counts())\n",
    "# BENIGN          288566\n",
    "# Infiltration        36\n",
    "# Name:  Label, dtype: int64\n",
    "\n",
    "# df6=pd.read_csv(\"./data/Thursday-WorkingHours-Morning-WebAttacks.pcap_ISCX.csv\")\n",
    "# print(df6[' Label'].value_counts())\n",
    "# BENIGN                        168186\n",
    "# Web Attack � Brute Force        1507\n",
    "# Web Attack � XSS                 652\n",
    "# Web Attack � Sql Injection        21\n",
    "# Name:  Label, dtype: int64\n",
    "\n",
    "# df7=pd.read_csv(\"./data/Tuesday-WorkingHours.pcap_ISCX.csv\")\n",
    "# print(df7[' Label'].value_counts())\n",
    "# BENIGN         432074\n",
    "# FTP-Patator      7938\n",
    "# SSH-Patator      5897\n",
    "# Name:  Label, dtype: int64\n",
    "\n",
    "# df8=pd.read_csv(\"./data/Wednesday-workingHours.pcap_ISCX.csv\")\n",
    "# print(df8[' Label'].value_counts())\n",
    "# BENIGN              440031\n",
    "# DoS Hulk            231073\n",
    "# DoS GoldenEye        10293\n",
    "# DoS slowloris         5796\n",
    "# DoS Slowhttptest      5499\n",
    "# Heartbleed              11\n",
    "# Name:  Label, dtype: int64\n"
   ]
  },
  {
   "cell_type": "code",
   "execution_count": 11,
   "metadata": {},
   "outputs": [
    {
     "name": "stdout",
     "output_type": "stream",
     "text": [
      "BENIGN         432074\n",
      "FTP-Patator      7938\n",
      "SSH-Patator      5897\n",
      "Name:  Label, dtype: int64\n"
     ]
    },
    {
     "data": {
      "text/plain": [
       "BENIGN     432074\n",
       "Patator     13835\n",
       "Name:  Label, dtype: int64"
      ]
     },
     "execution_count": 11,
     "metadata": {},
     "output_type": "execute_result"
    }
   ],
   "source": [
    "df7 = pd.read_csv(\"./data//Tuesday-WorkingHours.pcap_ISCX.csv\")\n",
    "print(df7[' Label'].value_counts())\n",
    "df7[\" Label\"] = df7[\" Label\"].replace([\"FTP-Patator\",\"SSH-Patator\"],\"Patator\")\n",
    "df7[' Label'].value_counts()"
   ]
  },
  {
   "cell_type": "code",
   "execution_count": 13,
   "metadata": {},
   "outputs": [],
   "source": [
    "def preprosess(df):\n",
    "\n",
    "    #remove rows with any values that are not finite\n",
    "    df = df[np.isfinite(df).all(1)]\n",
    "    \n",
    "    df=df.dropna( axis=0, how='any')\n",
    "    df=df.replace(',,', np.nan, inplace=False)\n",
    "    df=df.drop(columns=[' Fwd Header Length.1'], axis=1, inplace=False)\n",
    "\n",
    "    df.replace(\"Infinity\", 0, inplace=True)\n",
    "    df['Flow Bytes/s'].replace(\"Infinity\", 0,inplace=True)\n",
    "    df[\" Flow Packets/s\"].replace(\"Infinity\", 0, inplace=True)\n",
    "    df[\" Flow Packets/s\"].replace(np.nan, 0, inplace=True)\n",
    "    df['Flow Bytes/s'].replace(np.nan, 0,inplace=True)\n",
    "    df[\"Bwd Avg Bulk Rate\"].replace(\"Infinity\", 0, inplace=True)\n",
    "    df[\"Bwd Avg Bulk Rate\"].replace(\",,\", 0, inplace=True)\n",
    "    df[\"Bwd Avg Bulk Rate\"].replace(np.nan, 0, inplace=True)\n",
    "    df[\" Bwd Avg Packets/Bulk\"].replace(\"Infinity\", 0, inplace=True)\n",
    "    df[\" Bwd Avg Packets/Bulk\"].replace(\",,\", 0, inplace=True)\n",
    "    df[\" Bwd Avg Packets/Bulk\"].replace(np.nan, 0, inplace=True)\n",
    "    df[\" Bwd Avg Bytes/Bulk\"].replace(\"Infinity\", 0, inplace=True)\n",
    "    df[\" Bwd Avg Bytes/Bulk\"].replace(\",,\", 0, inplace=True)\n",
    "    df[\" Bwd Avg Bytes/Bulk\"].replace(np.nan, 0, inplace=True)\n",
    "    df[\" Fwd Avg Bulk Rate\"].replace(\"Infinity\", 0, inplace=True)\n",
    "    df[\" Fwd Avg Bulk Rate\"].replace(\",,\", 0, inplace=True)\n",
    "    df[\" Fwd Avg Bulk Rate\"].replace(np.nan, 0, inplace=True)\n",
    "    df[\" Fwd Avg Packets/Bulk\"].replace(\"Infinity\", 0, inplace=True)\n",
    "    df[\" Fwd Avg Packets/Bulk\"].replace(\",,\", 0, inplace=True)\n",
    "    df[\" Fwd Avg Packets/Bulk\"].replace(np.nan, 0, inplace=True)\n",
    "    df[\"Fwd Avg Bytes/Bulk\"].replace(\"Infinity\", 0, inplace=True)\n",
    "    df[\"Fwd Avg Bytes/Bulk\"].replace(\",,\", 0, inplace=True)\n",
    "    df[\"Fwd Avg Bytes/Bulk\"].replace(np.nan, 0, inplace=True)\n",
    "    df[\" CWE Flag Count\"].replace(\"Infinity\", 0, inplace=True)\n",
    "    df[\" CWE Flag Count\"].replace(\",,\", 0, inplace=True)\n",
    "    df[\" CWE Flag Count\"].replace(np.nan, 0, inplace=True)\n",
    "    df[\" Bwd URG Flags\"].replace(\"Infinity\", 0, inplace=True)\n",
    "    df[\" Bwd URG Flags\"].replace(\",,\", 0, inplace=True)\n",
    "    df[\" Bwd URG Flags\"].replace(np.nan, 0, inplace=True)\n",
    "    df[\" Bwd PSH Flags\"].replace(\"Infinity\", 0, inplace=True)\n",
    "    df[\" Bwd PSH Flags\"].replace(\",,\", 0, inplace=True)\n",
    "    df[\" Bwd PSH Flags\"].replace(np.nan, 0, inplace=True)\n",
    "    df[\" Fwd URG Flags\"].replace(\"Infinity\", 0, inplace=True)\n",
    "    df[\" Fwd URG Flags\"].replace(\",,\", 0, inplace=True)\n",
    "    df[\" Fwd URG Flags\"].replace(np.nan, 0, inplace=True)\n",
    "\n",
    "    df[\"Flow Bytes/s\"]=df[\"Flow Bytes/s\"].astype(\"float64\")\n",
    "    df[' Flow Packets/s']=df[\" Flow Packets/s\"].astype(\"float64\")\n",
    "    df['Bwd Avg Bulk Rate']=df[\"Bwd Avg Bulk Rate\"].astype(\"float64\")\n",
    "    df[' Bwd Avg Packets/Bulk']=df[\" Bwd Avg Packets/Bulk\"].astype(\"float64\")\n",
    "    df[' Bwd Avg Bytes/Bulk']=df[\" Bwd Avg Bytes/Bulk\"].astype(\"float64\")\n",
    "    df[' Fwd Avg Bulk Rate']=df[\" Fwd Avg Bulk Rate\"].astype(\"float64\")\n",
    "    df[' Fwd Avg Packets/Bulk']=df[\" Fwd Avg Packets/Bulk\"].astype(\"float64\")\n",
    "    df['Fwd Avg Bytes/Bulk']=df[\"Fwd Avg Bytes/Bulk\"].astype(\"float64\")\n",
    "    df[' CWE Flag Count']=df[\" CWE Flag Count\"].astype(\"float64\")\n",
    "    df[' Bwd URG Flags']=df[\" Bwd URG Flags\"].astype(\"float64\")\n",
    "    df[' Bwd PSH Flags']=df[\" Bwd PSH Flags\"].astype(\"float64\")\n",
    "    df[' Fwd URG Flags']=df[\" Fwd URG Flags\"].astype(\"float64\")\n",
    "    pd.set_option('display.max_rows', df.shape[0])\n",
    "    df.replace('Infinity',0.0, inplace=True)\n",
    "    df.replace('NaN',0.0, inplace=True)\n",
    "\n",
    "\n",
    "    # old_memory_usage = df.memory_usage().sum()\n",
    "    #change the variable types for low memory usage\n",
    "    #int64 to int32,,, float64 to float32\n",
    "    integer = []\n",
    "    f = []\n",
    "    for i in df.columns[:-1]:\n",
    "        if df[i].dtype == \"int64\": integer.append(i)\n",
    "        else : f.append(i)\n",
    "\n",
    "    df[integer] = df[integer].astype(\"int32\")\n",
    "    df[f] = df[f].astype(\"float32\")\n",
    "\n",
    "    # df = df.replace((np.inf, -np.inf, np.nan), 0).reset_index(drop=True)\n",
    "\n",
    "\n",
    "    # print(\"============================\")\n",
    "    # print(df.info())\n",
    "    return df\n"
   ]
  },
  {
   "cell_type": "code",
   "execution_count": 14,
   "metadata": {},
   "outputs": [
    {
     "name": "stdout",
     "output_type": "stream",
     "text": [
      "BENIGN     432074\n",
      "Patator     13835\n",
      "Name:  Label, dtype: int64\n",
      "0    431813\n",
      "1     13832\n",
      "Name:  Label, dtype: int64\n",
      "<class 'pandas.core.frame.DataFrame'>\n",
      "Int64Index: 445645 entries, 0 to 445908\n",
      "Data columns (total 15 columns):\n",
      " #   Column                        Non-Null Count   Dtype  \n",
      "---  ------                        --------------   -----  \n",
      " 0    Fwd Packet Length Max        445645 non-null  int32  \n",
      " 1    Flow IAT Std                 445645 non-null  float32\n",
      " 2    Fwd Packet Length Std        445645 non-null  float32\n",
      " 3   Fwd IAT Total                 445645 non-null  int32  \n",
      " 4    Flow Duration                445645 non-null  int32  \n",
      " 5    Fwd Packet Length Mean       445645 non-null  float32\n",
      " 6    Total Length of Bwd Packets  445645 non-null  int32  \n",
      " 7   Total Length of Fwd Packets   445645 non-null  int32  \n",
      " 8    Flow IAT Mean                445645 non-null  float32\n",
      " 9    Bwd Packet Length Mean       445645 non-null  float32\n",
      " 10   Flow IAT Max                 445645 non-null  int32  \n",
      " 11   Bwd Packet Length Std        445645 non-null  float32\n",
      " 12   Total Fwd Packets            445645 non-null  int32  \n",
      " 13   Total Backward Packets       445645 non-null  int32  \n",
      " 14   Label                        445645 non-null  int64  \n",
      "dtypes: float32(6), int32(8), int64(1)\n",
      "memory usage: 30.6 MB\n",
      "None\n",
      "0    13832\n",
      "1    13832\n",
      "Name:  Label, dtype: int64\n",
      "0.7442617025121996\n",
      "[[2737   21]\n",
      " [1394 1381]]\n"
     ]
    },
    {
     "data": {
      "image/png": "[encoded data removed]",
      "text/plain": [
       "<Figure size 432x288 with 1 Axes>"
      ]
     },
     "metadata": {},
     "output_type": "display_data"
    }
   ],
   "source": [
    "# from pyod.models.knn import KNN\n",
    "# from pyod.models.lof import LOF\n",
    "# from pyod.models.hbos import HBOS\n",
    "# from pyod.models.iforest import IForest\n",
    "# from pyod.models.cblof import CBLOF\n",
    "# from pyod.models.loci import LOCI\n",
    "# from pyod.models.sos import SOS\n",
    "from sklearn.linear_model import LogisticRegression\n",
    "from sklearn.metrics import accuracy_score, confusion_matrix\n",
    "from imblearn.under_sampling import RandomUnderSampler\n",
    "\n",
    "df7 = pd.read_csv(\"./data//Tuesday-WorkingHours.pcap_ISCX.csv\")\n",
    "\n",
    "df7[\" Label\"] = df7[\" Label\"].replace([\"FTP-Patator\",\"SSH-Patator\"],\"Patator\")\n",
    "print(df7[' Label'].value_counts())\n",
    "\n",
    "\n",
    "df7[' Label'] = df7[' Label'].replace(['BENIGN'], 0)\n",
    "df7[' Label'] = df7[' Label'].replace(['Patator'], 1)\n",
    "\n",
    "df = preprosess(df7)\n",
    "\n",
    "features=[\" Fwd Packet Length Max\",\" Flow IAT Std\",\" Fwd Packet Length Std\" ,\"Fwd IAT Total\",' Flow Duration', \" Fwd Packet Length Mean\", \" Total Length of Bwd Packets\", \"Total Length of Fwd Packets\", \" Flow IAT Mean\", \" Bwd Packet Length Mean\",  \" Flow IAT Max\", \" Bwd Packet Length Std\", ' Total Fwd Packets', ' Total Backward Packets',' Label']\n",
    "\n",
    "# print(df6.columns)\n",
    "df = df[features].copy()\n",
    "\n",
    "# print(df3[\" Label\"].unique())\n",
    "print(df[' Label'].value_counts())\n",
    "print(df.info())\n",
    "\n",
    "X = df.drop([' Label'], axis=1)\n",
    "y = df[' Label']\n",
    "# X = df[df.columns[0:-1]]\n",
    "# y = df[df.columns[-1]]\n",
    "\n",
    "rus = RandomUnderSampler(sampling_strategy=1) # Numerical value\n",
    "# rus = RandomUnderSampler(sampling_strategy=\"not minority\") # String\n",
    "X_res, y_res = rus.fit_resample(X, y)\n",
    "\n",
    "ax = y_res.value_counts().plot.pie(autopct='%.2f')\n",
    "_ = ax.set_title(\"Under-sampling\")\n",
    "\n",
    "# X_res.value_counts()\n",
    "print(y_res.value_counts())\n",
    "\n",
    "X_train, X_test, y_train, y_test=train_test_split(X_res,y_res,test_size=0.2, random_state=10)\n",
    "# X_train, X_test, y_train, y_test=train_test_split(X_train, y_train,test_size=0.2, random_state=10)\n",
    "\n",
    "\n",
    "# Initialize and train classifier model\n",
    "clf = LogisticRegression(solver='lbfgs', max_iter=100).fit(X_train, y_train)\n",
    "y_pred = clf.predict(X_test)\n",
    "\n",
    "# Compare test set predictions with ground truth labels\n",
    "print(accuracy_score(y_pred, y_test))\n",
    "print(confusion_matrix(y_test, y_pred))"
   ]
  },
  {
   "cell_type": "code",
   "execution_count": 17,
   "metadata": {},
   "outputs": [],
   "source": [
    "# !pip install scikit-plot"
   ]
  },
  {
   "cell_type": "code",
   "execution_count": 19,
   "metadata": {},
   "outputs": [
    {
     "name": "stdout",
     "output_type": "stream",
     "text": [
      "Classification report: \n",
      "               precision    recall  f1-score   support\n",
      "\n",
      "           0       0.97      0.95      0.96      2758\n",
      "           1       0.95      0.97      0.96      2775\n",
      "\n",
      "    accuracy                           0.96      5533\n",
      "   macro avg       0.96      0.96      0.96      5533\n",
      "weighted avg       0.96      0.96      0.96      5533\n",
      " \n",
      "\n"
     ]
    },
    {
     "data": {
      "text/plain": [
       "<AxesSubplot: title={'center': 'Confusion Matrix for KNeighborsClassifier'}, xlabel='Predicted label', ylabel='True label'>"
      ]
     },
     "execution_count": 19,
     "metadata": {},
     "output_type": "execute_result"
    },
    {
     "data": {
      "image/png": "[encoded data removed]",
      "text/plain": [
       "<Figure size 432x288 with 2 Axes>"
      ]
     },
     "metadata": {
      "needs_background": "light"
     },
     "output_type": "display_data"
    }
   ],
   "source": [
    "from scikitplot.metrics import plot_confusion_matrix # For plotting confusion matrices\n",
    "from sklearn.metrics import classification_report # Various metrics for model performance\n",
    "from sklearn.neighbors import KNeighborsClassifier # K-Nearest Neighbors ML classifier (default n. of neighbors = 5)\n",
    "from sklearn.neural_network import MLPClassifier # For Neural Network classifier\n",
    "\n",
    "model = KNeighborsClassifier(n_neighbors=5, weights='uniform',\n",
    "                                    algorithm='auto', leaf_size=30,\n",
    "                                    p=2, metric='minkowski',\n",
    "                                    metric_params=None, n_jobs=None)\n",
    "\n",
    "model.fit(X_train, y_train.ravel()) # 4)\n",
    "pred_y = model.predict(X_test) # 5)\n",
    "score = classification_report(y_test, pred_y) # 6)\n",
    "print('Classification report: \\n', score, '\\n')\n",
    "\n",
    "plot_confusion_matrix(y_test, pred_y, title='Confusion Matrix for {}'.format(\"KNeighborsClassifier\"))"
   ]
  },
  {
   "cell_type": "code",
   "execution_count": 23,
   "metadata": {},
   "outputs": [
    {
     "name": "stdout",
     "output_type": "stream",
     "text": [
      "Classification report: \n",
      "               precision    recall  f1-score   support\n",
      "\n",
      "           0       0.67      0.61      0.64      2758\n",
      "           1       0.64      0.70      0.67      2775\n",
      "\n",
      "    accuracy                           0.65      5533\n",
      "   macro avg       0.65      0.65      0.65      5533\n",
      "weighted avg       0.65      0.65      0.65      5533\n",
      " \n",
      "\n"
     ]
    },
    {
     "name": "stderr",
     "output_type": "stream",
     "text": [
      "/usr/local/lib/python3.8/dist-packages/sklearn/neural_network/_multilayer_perceptron.py:684: ConvergenceWarning: Stochastic Optimizer: Maximum iterations (2) reached and the optimization hasn't converged yet.\n",
      "  warnings.warn(\n"
     ]
    },
    {
     "data": {
      "text/plain": [
       "<AxesSubplot: title={'center': 'Confusion Matrix for MLPClassifier'}, xlabel='Predicted label', ylabel='True label'>"
      ]
     },
     "execution_count": 23,
     "metadata": {},
     "output_type": "execute_result"
    },
    {
     "data": {
      "image/png": "[encoded data removed]",
      "text/plain": [
       "<Figure size 432x288 with 2 Axes>"
      ]
     },
     "metadata": {
      "needs_background": "light"
     },
     "output_type": "display_data"
    }
   ],
   "source": [
    "from sklearn.neural_network import MLPClassifier # For Neural Network classifier\n",
    "\n",
    "model = MLPClassifier(hidden_layer_sizes=(10,), activation='relu',\n",
    "                                    solver='adam', alpha=0.01, batch_size='auto',\n",
    "                                    learning_rate='adaptive', learning_rate_init=0.1,\n",
    "                                    max_iter=2)\n",
    "    \n",
    "# Fitting the model is synonymous to training the model. Need to call .ravel() to get array in correct format.\n",
    "model.fit(X_train, y_train.ravel())\n",
    "\n",
    "# Using the model to predict the label/ classes, based upon X_test data only. This is the model's answers.\n",
    "pred_y = model.predict(X_test)\n",
    "\n",
    "pred_y = model.predict(X_test) # 5)\n",
    "score = classification_report(y_test, pred_y) # 6)\n",
    "print('Classification report: \\n', score, '\\n')\n",
    "\n",
    "plot_confusion_matrix(y_test, pred_y, title='Confusion Matrix for {}'.format(\"MLPClassifier\"))"
   ]
  },
  {
   "cell_type": "code",
   "execution_count": 26,
   "metadata": {},
   "outputs": [
    {
     "name": "stdout",
     "output_type": "stream",
     "text": [
      "Classification report: \n",
      "               precision    recall  f1-score   support\n",
      "\n",
      "           0       0.99      0.94      0.96      2758\n",
      "           1       0.94      0.99      0.96      2775\n",
      "\n",
      "    accuracy                           0.96      5533\n",
      "   macro avg       0.96      0.96      0.96      5533\n",
      "weighted avg       0.96      0.96      0.96      5533\n",
      " \n",
      "\n"
     ]
    },
    {
     "data": {
      "text/plain": [
       "<AxesSubplot: title={'center': 'Confusion Matrix for AdaBoostClassifier'}, xlabel='Predicted label', ylabel='True label'>"
      ]
     },
     "execution_count": 26,
     "metadata": {},
     "output_type": "execute_result"
    },
    {
     "data": {
      "image/png": "[encoded data removed]",
      "text/plain": [
       "<Figure size 432x288 with 2 Axes>"
      ]
     },
     "metadata": {
      "needs_background": "light"
     },
     "output_type": "display_data"
    }
   ],
   "source": [
    "from sklearn.ensemble import AdaBoostClassifier\n",
    "\n",
    "\n",
    "model = AdaBoostClassifier()\n",
    "    \n",
    "# Fitting the model is synonymous to training the model. Need to call .ravel() to get array in correct format.\n",
    "model.fit(X_train, y_train.ravel())\n",
    "\n",
    "# Using the model to predict the label/ classes, based upon X_test data only. This is the model's answers.\n",
    "pred_y = model.predict(X_test)\n",
    "\n",
    "pred_y = model.predict(X_test) # 5)\n",
    "score = classification_report(y_test, pred_y) # 6)\n",
    "print('Classification report: \\n', score, '\\n')\n",
    "\n",
    "plot_confusion_matrix(y_test, pred_y, title='Confusion Matrix for {}'.format(\"AdaBoostClassifier\"))"
   ]
  },
  {
   "cell_type": "code",
   "execution_count": 32,
   "metadata": {},
   "outputs": [
    {
     "name": "stdout",
     "output_type": "stream",
     "text": [
      "Classification report: \n",
      "               precision    recall  f1-score   support\n",
      "\n",
      "           0       0.98      0.95      0.97      2758\n",
      "           1       0.95      0.98      0.97      2775\n",
      "\n",
      "    accuracy                           0.97      5533\n",
      "   macro avg       0.97      0.97      0.97      5533\n",
      "weighted avg       0.97      0.97      0.97      5533\n",
      " \n",
      "\n"
     ]
    },
    {
     "data": {
      "text/plain": [
       "<AxesSubplot: title={'center': 'Confusion Matrix for RandomForestClassifier'}, xlabel='Predicted label', ylabel='True label'>"
      ]
     },
     "execution_count": 32,
     "metadata": {},
     "output_type": "execute_result"
    },
    {
     "data": {
      "image/png": "[encoded data removed]",
      "text/plain": [
       "<Figure size 432x288 with 2 Axes>"
      ]
     },
     "metadata": {
      "needs_background": "light"
     },
     "output_type": "display_data"
    }
   ],
   "source": [
    "from sklearn.tree import DecisionTreeClassifier\n",
    "model = RandomForestClassifier(max_depth=17, max_features=10, min_samples_leaf=3, n_estimators=50, random_state=42, oob_score=True)\n",
    "# rfc = RandomForestClassifier(n_estimators=250, random_state=1)\n",
    "model.fit(X_train, y_train)\n",
    "pred_y = model.predict(X_test)\n",
    "\n",
    "pred_y = model.predict(X_test) # 5)\n",
    "score = classification_report(y_test, pred_y) # 6)\n",
    "print('Classification report: \\n', score, '\\n')\n",
    "\n",
    "plot_confusion_matrix(y_test, pred_y, title='Confusion Matrix for {}'.format(\"RandomForestClassifier\"))\n"
   ]
  },
  {
   "cell_type": "code",
   "execution_count": 33,
   "metadata": {},
   "outputs": [
    {
     "name": "stdout",
     "output_type": "stream",
     "text": [
      "Model\tAcc\tPr\tRecall\tF1\tExecution\n",
      "RF\t0.953\t0.924\t0.991\t0.993\t6.39 secs\n",
      "ABoost\t0.960\t0.940\t0.984\t0.993\t104.44 secs\n"
     ]
    }
   ],
   "source": [
    "import time\n",
    "import warnings\n",
    "warnings.filterwarnings(\"ignore\")\n",
    "\n",
    "from sklearn import model_selection\n",
    "from sklearn.model_selection import cross_val_score\n",
    "from sklearn.neighbors import KNeighborsClassifier\n",
    "from sklearn.svm import SVC\n",
    "from sklearn.tree import DecisionTreeClassifier\n",
    "from sklearn.ensemble import RandomForestClassifier\n",
    "from sklearn.ensemble import AdaBoostClassifier\n",
    "from sklearn.linear_model import LogisticRegression\n",
    "from sklearn.naive_bayes import GaussianNB\n",
    "from sklearn.discriminant_analysis import LinearDiscriminantAnalysis\n",
    "from sklearn.discriminant_analysis import QuadraticDiscriminantAnalysis\n",
    "from sklearn.neural_network import MLPClassifier\n",
    "\n",
    "models = []\n",
    "# models.append(('KNN', KNeighborsClassifier()))\n",
    "# models.append(('SVM', SVC(gamma='auto')))\n",
    "# models.append(('CART', DecisionTreeClassifier(max_depth=5)))\n",
    "models.append(('RF', RandomForestClassifier(max_depth=5, n_estimators=5, max_features=3)))    \n",
    "models.append(('ABoost', AdaBoostClassifier()))\n",
    "# models.append(('LR', LogisticRegression(solver='lbfgs', max_iter=200)))\n",
    "# models.append(('NB', GaussianNB()))\n",
    "# models.append(('LDA', LinearDiscriminantAnalysis()))\n",
    "# models.append(('QDA', QuadraticDiscriminantAnalysis()))\n",
    "# models.append(('MLP', MLPClassifier()))\n",
    "\n",
    "print('Model\\tAcc\\tPr\\tRecall\\tF1\\tExecution')\n",
    "      \n",
    "for name, model in models:\n",
    "    start_time = time.time()\n",
    "    kfold = model_selection.KFold(n_splits=5, random_state=24, shuffle=True)    \n",
    "\n",
    "    accuracy = cross_val_score(model, X_train, y_train, cv=kfold, scoring='accuracy').mean()\n",
    "    precision = cross_val_score(model, X_train, y_train, cv=kfold, scoring='precision').mean()\n",
    "    recall = cross_val_score(model, X_train, y_train, cv=kfold, scoring='recall').mean()\n",
    "    f1_score = cross_val_score(model, X, y, cv=kfold, scoring='f1_weighted').mean()\n",
    "    \n",
    "    delta = time.time() - start_time\n",
    "    print('{}\\t{:.3f}\\t{:.3f}\\t{:.3f}\\t{:.3f}\\t{:.2f} secs'.format(name, accuracy, precision, recall, f1_score, delta))"
   ]
  },
  {
   "cell_type": "code",
   "execution_count": 29,
   "metadata": {},
   "outputs": [],
   "source": [
    "# !pip install tensorflow"
   ]
  },
  {
   "cell_type": "code",
   "execution_count": 27,
   "metadata": {},
   "outputs": [
    {
     "name": "stderr",
     "output_type": "stream",
     "text": [
      "2023-03-02 16:31:24.433750: I tensorflow/core/platform/cpu_feature_guard.cc:193] This TensorFlow binary is optimized with oneAPI Deep Neural Network Library (oneDNN) to use the following CPU instructions in performance-critical operations:  AVX2 AVX512F AVX512_VNNI FMA\n",
      "To enable them in other operations, rebuild TensorFlow with the appropriate compiler flags.\n",
      "2023-03-02 16:31:24.876908: I tensorflow/core/util/port.cc:104] oneDNN custom operations are on. You may see slightly different numerical results due to floating-point round-off errors from different computation orders. To turn them off, set the environment variable `TF_ENABLE_ONEDNN_OPTS=0`.\n",
      "2023-03-02 16:31:24.935812: W tensorflow/compiler/xla/stream_executor/platform/default/dso_loader.cc:64] Could not load dynamic library 'libcudart.so.11.0'; dlerror: libcudart.so.11.0: cannot open shared object file: No such file or directory\n",
      "2023-03-02 16:31:24.935834: I tensorflow/compiler/xla/stream_executor/cuda/cudart_stub.cc:29] Ignore above cudart dlerror if you do not have a GPU set up on your machine.\n",
      "2023-03-02 16:31:28.174154: W tensorflow/compiler/xla/stream_executor/platform/default/dso_loader.cc:64] Could not load dynamic library 'libnvinfer.so.7'; dlerror: libnvinfer.so.7: cannot open shared object file: No such file or directory\n",
      "2023-03-02 16:31:28.174355: W tensorflow/compiler/xla/stream_executor/platform/default/dso_loader.cc:64] Could not load dynamic library 'libnvinfer_plugin.so.7'; dlerror: libnvinfer_plugin.so.7: cannot open shared object file: No such file or directory\n",
      "2023-03-02 16:31:28.174362: W tensorflow/compiler/tf2tensorrt/utils/py_utils.cc:38] TF-TRT Warning: Cannot dlopen some TensorRT libraries. If you would like to use Nvidia GPU with TensorRT, please make sure the missing libraries mentioned above are installed properly.\n",
      "2023-03-02 16:31:31.330799: W tensorflow/compiler/xla/stream_executor/platform/default/dso_loader.cc:64] Could not load dynamic library 'libcuda.so.1'; dlerror: libcuda.so.1: cannot open shared object file: No such file or directory\n",
      "2023-03-02 16:31:31.331073: W tensorflow/compiler/xla/stream_executor/cuda/cuda_driver.cc:265] failed call to cuInit: UNKNOWN ERROR (303)\n",
      "2023-03-02 16:31:31.331153: I tensorflow/compiler/xla/stream_executor/cuda/cuda_diagnostics.cc:156] kernel driver does not appear to be running on this host (lap-0243): /proc/driver/nvidia/version does not exist\n",
      "2023-03-02 16:31:31.332262: I tensorflow/core/platform/cpu_feature_guard.cc:193] This TensorFlow binary is optimized with oneAPI Deep Neural Network Library (oneDNN) to use the following CPU instructions in performance-critical operations:  AVX2 AVX512F AVX512_VNNI FMA\n",
      "To enable them in other operations, rebuild TensorFlow with the appropriate compiler flags.\n"
     ]
    },
    {
     "name": "stdout",
     "output_type": "stream",
     "text": [
      "Model: \"sequential\"\n",
      "____________________________________________________________________________________________________\n",
      " Layer (type)                                Output Shape                            Param #        \n",
      "====================================================================================================\n",
      " conv1d (Conv1D)                             (None, 76, 64)                          2112           \n",
      "                                                                                                    \n",
      " max_pooling1d (MaxPooling1D)                (None, 15, 64)                          0              \n",
      "                                                                                                    \n",
      " batch_normalization (BatchNormalization)    (None, 15, 64)                          256            \n",
      "                                                                                                    \n",
      " bidirectional (Bidirectional)               (None, 128)                             66048          \n",
      "                                                                                                    \n",
      " reshape (Reshape)                           (None, 128, 1)                          0              \n",
      "                                                                                                    \n",
      " max_pooling1d_1 (MaxPooling1D)              (None, 25, 1)                           0              \n",
      "                                                                                                    \n",
      " batch_normalization_1 (BatchNormalization)  (None, 25, 1)                           4              \n",
      "                                                                                                    \n",
      " bidirectional_1 (Bidirectional)             (None, 256)                             133120         \n",
      "                                                                                                    \n",
      " dropout (Dropout)                           (None, 256)                             0              \n",
      "                                                                                                    \n",
      " dense (Dense)                               (None, 4)                               1028           \n",
      "                                                                                                    \n",
      " activation (Activation)                     (None, 4)                               0              \n",
      "                                                                                                    \n",
      "====================================================================================================\n",
      "Total params: 202,568\n",
      "Trainable params: 202,438\n",
      "Non-trainable params: 130\n",
      "____________________________________________________________________________________________________\n"
     ]
    }
   ],
   "source": [
    "from itertools import cycle\n",
    "import pickle\n",
    "import sys\n",
    "import time\n",
    "from typing import List, Tuple\n",
    "\n",
    "import matplotlib.pyplot as plt\n",
    "import numpy as np\n",
    "import pandas as pd\n",
    "from sklearn import metrics\n",
    "from sklearn.model_selection import StratifiedKFold\n",
    "from sklearn.model_selection import train_test_split\n",
    "import sklearn.preprocessing\n",
    "import tensorflow as tf\n",
    "import tensorflow.keras\n",
    "from tensorflow.keras.layers import Dense, Dropout, Activation\n",
    "from tensorflow.keras.layers import LSTM, Bidirectional, BatchNormalization, Convolution1D, MaxPooling1D, Reshape\n",
    "from tensorflow.keras.models import Sequential\n",
    "\n",
    "%matplotlib inline\n",
    "\n",
    "batch_size = 32\n",
    "model = Sequential()\n",
    "model.add(Convolution1D(64, kernel_size=32, padding=\"same\",\n",
    "          activation=\"relu\", input_shape=(76, 1)))\n",
    "model.add(MaxPooling1D(pool_size=(5)))\n",
    "model.add(BatchNormalization())\n",
    "model.add(Bidirectional(LSTM(64, return_sequences=False)))\n",
    "model.add(Reshape((128, 1), input_shape=(128, )))\n",
    "\n",
    "model.add(MaxPooling1D(pool_size=(5)))\n",
    "model.add(BatchNormalization())\n",
    "model.add(Bidirectional(LSTM(128, return_sequences=False)))\n",
    "\n",
    "model.add(Dropout(0.5))\n",
    "model.add(Dense(4))\n",
    "model.add(Activation('softmax'))\n",
    "model.compile(loss='categorical_crossentropy',\n",
    "              optimizer='adam', metrics=['accuracy'])\n",
    "\n",
    "model.summary(line_length=100)\n",
    "\n",
    "cv = StratifiedKFold(n_splits=5, shuffle=True, random_state=42)\n",
    "scores = pd.DataFrame(columns=[1, 2, 3, 4, 5, 'Mean'],\n",
    "                      index=['Accuracy', 'Precision', 'Recall', 'F1'])"
   ]
  },
  {
   "cell_type": "code",
   "execution_count": null,
   "metadata": {},
   "outputs": [],
   "source": []
  }
 ],
 "metadata": {
  "colab": {
   "collapsed_sections": [],
   "machine_shape": "hm",
   "name": "Copy of Copy of K fold Separate Notebook A.ipynb",
   "provenance": [],
   "toc_visible": true
  },
  "kernelspec": {
   "display_name": "Python 3",
   "language": "python",
   "name": "python3"
  },
  "language_info": {
   "codemirror_mode": {
    "name": "ipython",
    "version": 3
   },
   "file_extension": ".py",
   "mimetype": "text/x-python",
   "name": "python",
   "nbconvert_exporter": "python",
   "pygments_lexer": "ipython3",
   "version": "3.8.10"
  },
  "vscode": {
   "interpreter": {
    "hash": "916dbcbb3f70747c44a77c7bcd40155683ae19c65e1c03b4aa3499c5328201f1"
   }
  }
 },
 "nbformat": 4,
 "nbformat_minor": 4
}
