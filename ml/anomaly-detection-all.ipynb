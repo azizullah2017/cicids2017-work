{
 "cells": [
  {
   "attachments": {},
   "cell_type": "markdown",
   "metadata": {
    "colab_type": "text",
    "id": "3bd2vXMeSx6s"
   },
   "source": [
    "# Steps for implementation\n",
    "\n",
    "Reading CSV\n",
    "\n",
    "Data Cleaning\n",
    "\n",
    "Features\n",
    "\n",
    "Applying HBOS to detect outliers from the data"
   ]
  },
  {
   "cell_type": "code",
   "execution_count": null,
   "metadata": {},
   "outputs": [],
   "source": [
    "# https://github.com/kahramankostas/Anomaly-Detection-in-Networks-Using-Machine-Learning/blob/master/05_1_machine_learning_implementation_for_attack_files%20.ipynb"
   ]
  },
  {
   "cell_type": "code",
   "execution_count": 7,
   "metadata": {
    "colab": {},
    "colab_type": "code",
    "id": "O46P3metTaPc"
   },
   "outputs": [],
   "source": [
    "#Importing Necessary Modules\n",
    "import pandas as pd\n",
    "import matplotlib.pyplot as plt\n",
    "import numpy as np\n",
    "import time\n",
    "from sklearn.metrics import accuracy_score\n",
    "from sklearn.model_selection import train_test_split     # import module for train test split\n",
    "from pyod.models.hbos import HBOS\n",
    "from pyod.utils.data import evaluate_print\n",
    "\n",
    "from sklearn.ensemble import AdaBoostClassifier\n",
    "# from sklearn.metrics import accuracy_score, confusion_matrix\n",
    "from imblearn.under_sampling import RandomUnderSampler\n",
    "from scikitplot.metrics import plot_confusion_matrix # For plotting confusion matrices\n",
    "from sklearn.metrics import classification_report # Various metrics for model performance\n",
    "import pandas as pd\n",
    "import numpy as np\n",
    "from sklearn.model_selection import train_test_split     # import module for train test split\n",
    "import pickle"
   ]
  },
  {
   "cell_type": "code",
   "execution_count": null,
   "metadata": {},
   "outputs": [],
   "source": []
  },
  {
   "cell_type": "code",
   "execution_count": 10,
   "metadata": {},
   "outputs": [],
   "source": [
    "# df1=pd.read_csv(\"./data/Friday-WorkingHours-Afternoon-DDos.pcap_ISCX.csv\")\n",
    "# print(df1[' Label'].value_counts())\n",
    "# DDoS      128027\n",
    "# BENIGN     97718\n",
    "# Name:  Label, dtype: int64\n",
    "\n",
    "# df2=pd.read_csv(\"./data/Friday-WorkingHours-Afternoon-PortScan.pcap_ISCX.csv\")\n",
    "# print(df2[' Label'].value_counts())\n",
    "# PortScan    158930\n",
    "# BENIGN      127537\n",
    "# Name:  Label, dtype: int64\n",
    "\n",
    "# df3=pd.read_csv(\"./data/Friday-WorkingHours-Morning.pcap_ISCX.csv\")\n",
    "# print(df3[' Label'].value_counts())\n",
    "# BENIGN    189067\n",
    "# Bot         1966\n",
    "# Name:  Label, dtype: int64\n",
    "\n",
    "# df4=pd.read_csv(\"./data/Monday-WorkingHours.pcap_ISCX.csv\")\n",
    "# print(df4[' Label'].value_counts())\n",
    "# BENIGN    529918\n",
    "# Name:  Label, dtype: int64\n",
    "\n",
    "# df5=pd.read_csv(\"./data/Thursday-WorkingHours-Afternoon-Infilteration.pcap_ISCX.csv\")\n",
    "# print(df5[' Label'].value_counts())\n",
    "# BENIGN          288566\n",
    "# Infiltration        36\n",
    "# Name:  Label, dtype: int64\n",
    "\n",
    "# df6=pd.read_csv(\"./data/Thursday-WorkingHours-Morning-WebAttacks.pcap_ISCX.csv\")\n",
    "# print(df6[' Label'].value_counts())\n",
    "# BENIGN                        168186\n",
    "# Web Attack � Brute Force        1507\n",
    "# Web Attack � XSS                 652\n",
    "# Web Attack � Sql Injection        21\n",
    "# Name:  Label, dtype: int64\n",
    "\n",
    "# df7=pd.read_csv(\"./data/Tuesday-WorkingHours.pcap_ISCX.csv\")\n",
    "# print(df7[' Label'].value_counts())\n",
    "# BENIGN         432074\n",
    "# FTP-Patator      7938\n",
    "# SSH-Patator      5897\n",
    "# Name:  Label, dtype: int64\n",
    "\n",
    "# df8=pd.read_csv(\"./data/Wednesday-workingHours.pcap_ISCX.csv\")\n",
    "# print(df8[' Label'].value_counts())\n",
    "# BENIGN              440031\n",
    "# DoS Hulk            231073\n",
    "# DoS GoldenEye        10293\n",
    "# DoS slowloris         5796\n",
    "# DoS Slowhttptest      5499\n",
    "# Heartbleed              11\n",
    "# Name:  Label, dtype: int64\n"
   ]
  },
  {
   "cell_type": "code",
   "execution_count": 6,
   "metadata": {},
   "outputs": [],
   "source": []
  },
  {
   "cell_type": "code",
   "execution_count": 4,
   "metadata": {},
   "outputs": [],
   "source": [
    "def preprosess(df):\n",
    "\n",
    "    #remove rows with any values that are not finite\n",
    "    df = df[np.isfinite(df).all(1)]\n",
    "    \n",
    "    df=df.dropna( axis=0, how='any')\n",
    "    df=df.replace(',,', np.nan, inplace=False)\n",
    "    df=df.drop(columns=[' Fwd Header Length.1'], axis=1, inplace=False)\n",
    "\n",
    "    df.replace(\"Infinity\", 0, inplace=True)\n",
    "    df['Flow Bytes/s'].replace(\"Infinity\", 0,inplace=True)\n",
    "    df[\" Flow Packets/s\"].replace(\"Infinity\", 0, inplace=True)\n",
    "    df[\" Flow Packets/s\"].replace(np.nan, 0, inplace=True)\n",
    "    df['Flow Bytes/s'].replace(np.nan, 0,inplace=True)\n",
    "    df[\"Bwd Avg Bulk Rate\"].replace(\"Infinity\", 0, inplace=True)\n",
    "    df[\"Bwd Avg Bulk Rate\"].replace(\",,\", 0, inplace=True)\n",
    "    df[\"Bwd Avg Bulk Rate\"].replace(np.nan, 0, inplace=True)\n",
    "    df[\" Bwd Avg Packets/Bulk\"].replace(\"Infinity\", 0, inplace=True)\n",
    "    df[\" Bwd Avg Packets/Bulk\"].replace(\",,\", 0, inplace=True)\n",
    "    df[\" Bwd Avg Packets/Bulk\"].replace(np.nan, 0, inplace=True)\n",
    "    df[\" Bwd Avg Bytes/Bulk\"].replace(\"Infinity\", 0, inplace=True)\n",
    "    df[\" Bwd Avg Bytes/Bulk\"].replace(\",,\", 0, inplace=True)\n",
    "    df[\" Bwd Avg Bytes/Bulk\"].replace(np.nan, 0, inplace=True)\n",
    "    df[\" Fwd Avg Bulk Rate\"].replace(\"Infinity\", 0, inplace=True)\n",
    "    df[\" Fwd Avg Bulk Rate\"].replace(\",,\", 0, inplace=True)\n",
    "    df[\" Fwd Avg Bulk Rate\"].replace(np.nan, 0, inplace=True)\n",
    "    df[\" Fwd Avg Packets/Bulk\"].replace(\"Infinity\", 0, inplace=True)\n",
    "    df[\" Fwd Avg Packets/Bulk\"].replace(\",,\", 0, inplace=True)\n",
    "    df[\" Fwd Avg Packets/Bulk\"].replace(np.nan, 0, inplace=True)\n",
    "    df[\"Fwd Avg Bytes/Bulk\"].replace(\"Infinity\", 0, inplace=True)\n",
    "    df[\"Fwd Avg Bytes/Bulk\"].replace(\",,\", 0, inplace=True)\n",
    "    df[\"Fwd Avg Bytes/Bulk\"].replace(np.nan, 0, inplace=True)\n",
    "    df[\" CWE Flag Count\"].replace(\"Infinity\", 0, inplace=True)\n",
    "    df[\" CWE Flag Count\"].replace(\",,\", 0, inplace=True)\n",
    "    df[\" CWE Flag Count\"].replace(np.nan, 0, inplace=True)\n",
    "    df[\" Bwd URG Flags\"].replace(\"Infinity\", 0, inplace=True)\n",
    "    df[\" Bwd URG Flags\"].replace(\",,\", 0, inplace=True)\n",
    "    df[\" Bwd URG Flags\"].replace(np.nan, 0, inplace=True)\n",
    "    df[\" Bwd PSH Flags\"].replace(\"Infinity\", 0, inplace=True)\n",
    "    df[\" Bwd PSH Flags\"].replace(\",,\", 0, inplace=True)\n",
    "    df[\" Bwd PSH Flags\"].replace(np.nan, 0, inplace=True)\n",
    "    df[\" Fwd URG Flags\"].replace(\"Infinity\", 0, inplace=True)\n",
    "    df[\" Fwd URG Flags\"].replace(\",,\", 0, inplace=True)\n",
    "    df[\" Fwd URG Flags\"].replace(np.nan, 0, inplace=True)\n",
    "\n",
    "    df[\"Flow Bytes/s\"]=df[\"Flow Bytes/s\"].astype(\"float64\")\n",
    "    df[' Flow Packets/s']=df[\" Flow Packets/s\"].astype(\"float64\")\n",
    "    df['Bwd Avg Bulk Rate']=df[\"Bwd Avg Bulk Rate\"].astype(\"float64\")\n",
    "    df[' Bwd Avg Packets/Bulk']=df[\" Bwd Avg Packets/Bulk\"].astype(\"float64\")\n",
    "    df[' Bwd Avg Bytes/Bulk']=df[\" Bwd Avg Bytes/Bulk\"].astype(\"float64\")\n",
    "    df[' Fwd Avg Bulk Rate']=df[\" Fwd Avg Bulk Rate\"].astype(\"float64\")\n",
    "    df[' Fwd Avg Packets/Bulk']=df[\" Fwd Avg Packets/Bulk\"].astype(\"float64\")\n",
    "    df['Fwd Avg Bytes/Bulk']=df[\"Fwd Avg Bytes/Bulk\"].astype(\"float64\")\n",
    "    df[' CWE Flag Count']=df[\" CWE Flag Count\"].astype(\"float64\")\n",
    "    df[' Bwd URG Flags']=df[\" Bwd URG Flags\"].astype(\"float64\")\n",
    "    df[' Bwd PSH Flags']=df[\" Bwd PSH Flags\"].astype(\"float64\")\n",
    "    df[' Fwd URG Flags']=df[\" Fwd URG Flags\"].astype(\"float64\")\n",
    "    pd.set_option('display.max_rows', df.shape[0])\n",
    "    df.replace('Infinity',0.0, inplace=True)\n",
    "    df.replace('NaN',0.0, inplace=True)\n",
    "\n",
    "\n",
    "    # old_memory_usage = df.memory_usage().sum()\n",
    "    #change the variable types for low memory usage\n",
    "    #int64 to int32,,, float64 to float32\n",
    "    integer = []\n",
    "    f = []\n",
    "    for i in df.columns[:-1]:\n",
    "        if df[i].dtype == \"int64\": integer.append(i)\n",
    "        else : f.append(i)\n",
    "\n",
    "    df[integer] = df[integer].astype(\"int32\")\n",
    "    df[f] = df[f].astype(\"float32\")\n",
    "\n",
    "    # df = df.replace((np.inf, -np.inf, np.nan), 0).reset_index(drop=True)\n",
    "\n",
    "\n",
    "    # print(\"============================\")\n",
    "    # print(df.info())\n",
    "    return df\n"
   ]
  },
  {
   "cell_type": "code",
   "execution_count": 27,
   "metadata": {},
   "outputs": [
    {
     "name": "stdout",
     "output_type": "stream",
     "text": [
      "DDoS      128027\n",
      "BENIGN     97718\n",
      "Name:  Label, dtype: int64\n",
      "1    128025\n",
      "0     97686\n",
      "Name:  Label, dtype: int64\n",
      "-----------------------\n",
      "0    97686\n",
      "1    97686\n",
      "Name:  Label, dtype: int64\n",
      "Classification report: \n",
      "               precision    recall  f1-score   support\n",
      "\n",
      "           0       1.00      1.00      1.00     19516\n",
      "           1       1.00      1.00      1.00     19559\n",
      "\n",
      "    accuracy                           1.00     39075\n",
      "   macro avg       1.00      1.00      1.00     39075\n",
      "weighted avg       1.00      1.00      1.00     39075\n",
      " \n",
      "\n"
     ]
    },
    {
     "data": {
      "image/png": "[encoded data removed]",
      "text/plain": [
       "<Figure size 432x288 with 1 Axes>"
      ]
     },
     "metadata": {},
     "output_type": "display_data"
    },
    {
     "data": {
      "image/png": "[encoded data removed]",
      "text/plain": [
       "<Figure size 432x288 with 2 Axes>"
      ]
     },
     "metadata": {
      "needs_background": "light"
     },
     "output_type": "display_data"
    }
   ],
   "source": [
    "\n",
    "df1=pd.read_csv(\"./data/Friday-WorkingHours-Afternoon-DDos.pcap_ISCX.csv\")\n",
    "print(df1[' Label'].value_counts())\n",
    "# DDoS      128027\n",
    "# BENIGN     97718\n",
    "\n",
    "\n",
    "# df1[\" Label\"] = df1[\" Label\"].replace([\"FTP-Patator\",\"SSH-Patator\"],\"Patator\")\n",
    "\n",
    "df1[' Label'] = df1[' Label'].replace(['BENIGN'], 0)\n",
    "df1[' Label'] = df1[' Label'].replace(['DDoS'], 1)\n",
    "\n",
    "df = preprosess(df1)\n",
    "\n",
    "features=[\" Fwd Packet Length Max\",\" Flow IAT Std\",\" Fwd Packet Length Std\" ,\"Fwd IAT Total\",' Flow Duration', \" Fwd Packet Length Mean\", \" Total Length of Bwd Packets\", \"Total Length of Fwd Packets\", \" Flow IAT Mean\", \" Bwd Packet Length Mean\",  \" Flow IAT Max\", \" Bwd Packet Length Std\", ' Total Fwd Packets', ' Total Backward Packets',' Label']\n",
    "\n",
    "df = df[features].copy()\n",
    "\n",
    "print(df[' Label'].value_counts())\n",
    "\n",
    "\n",
    "X = df.drop([' Label'], axis=1)\n",
    "y = df[' Label']\n",
    "\n",
    "rus = RandomUnderSampler(sampling_strategy=1) # Numerical value\n",
    "X_res, y_res = rus.fit_resample(X, y)\n",
    "\n",
    "ax = y_res.value_counts().plot.pie(autopct='%.2f')\n",
    "_ = ax.set_title(\"Under-sampling\")\n",
    "\n",
    "print(\"-----------------------\")\n",
    "print(y_res.value_counts())\n",
    "\n",
    "X_train, X_test, y_train, y_test=train_test_split(X_res,y_res,test_size=0.2, random_state=10)\n",
    "\n",
    "model = AdaBoostClassifier()\n",
    "    \n",
    "# Fitting the model is synonymous to training the model. Need to call .ravel() to get array in correct format.\n",
    "model.fit(X_train, y_train.ravel())\n",
    "\n",
    "# Using the model to predict the label/ classes, based upon X_test data only. This is the model's answers.\n",
    "pred_y = model.predict(X_test)\n",
    "\n",
    "pred_y = model.predict(X_test) # 5)\n",
    "score = classification_report(y_test, pred_y) # 6)\n",
    "print('Classification report: \\n', score, '\\n')\n",
    "\n",
    "plot_confusion_matrix(y_test, pred_y, title='Confusion Matrix for {}'.format(\"AdaBoostClassifier\"))\n",
    "\n",
    "with open('DDoS_detection_AdaBoost_model.pkl', 'wb') as f:\n",
    "    pickle.dump(model, f)"
   ]
  },
  {
   "cell_type": "code",
   "execution_count": 9,
   "metadata": {},
   "outputs": [
    {
     "name": "stdout",
     "output_type": "stream",
     "text": [
      "1    158804\n",
      "0    127292\n",
      "Name:  Label, dtype: int64\n",
      "    Fwd Packet Length Max   Flow IAT Std   Fwd Packet Length Std  \\\n",
      "0                     456  104051.398438              109.864571   \n",
      "\n",
      "   Fwd IAT Total   Flow Duration   Fwd Packet Length Mean  \\\n",
      "0        1266342         1266342                64.975609   \n",
      "\n",
      "    Total Length of Bwd Packets  Total Length of Fwd Packets   Flow IAT Mean  \\\n",
      "0                          6954                         2664         15075.5   \n",
      "\n",
      "    Bwd Packet Length Mean   Flow IAT Max   Bwd Packet Length Std  \\\n",
      "0               158.045456         948537              312.675262   \n",
      "\n",
      "    Total Fwd Packets   Total Backward Packets  \n",
      "0                  41                       44  \n",
      "======================================\n",
      "    Fwd Packet Length Max   Flow IAT Std   Fwd Packet Length Std  \\\n",
      "0                     456  104051.398438              109.864571   \n",
      "\n",
      "   Fwd IAT Total   Flow Duration   Fwd Packet Length Mean  \\\n",
      "0        1266342         1266342                64.975609   \n",
      "\n",
      "    Total Length of Bwd Packets  Total Length of Fwd Packets   Flow IAT Mean  \\\n",
      "0                          6954                         2664         15075.5   \n",
      "\n",
      "    Bwd Packet Length Mean   Flow IAT Max   Bwd Packet Length Std  \\\n",
      "0               158.045456         948537              312.675262   \n",
      "\n",
      "    Total Fwd Packets   Total Backward Packets  \n",
      "0                  41                       44  \n",
      "-----------------------\n",
      "0    127292\n",
      "1    127292\n",
      "Name:  Label, dtype: int64\n",
      "Classification report: \n",
      "               precision    recall  f1-score   support\n",
      "\n",
      "           0       1.00      1.00      1.00     25467\n",
      "           1       1.00      1.00      1.00     25450\n",
      "\n",
      "    accuracy                           1.00     50917\n",
      "   macro avg       1.00      1.00      1.00     50917\n",
      "weighted avg       1.00      1.00      1.00     50917\n",
      " \n",
      "\n"
     ]
    },
    {
     "data": {
      "text/plain": [
       "<AxesSubplot: title={'center': 'Confusion Matrix for AdaBoostClassifier'}, xlabel='Predicted label', ylabel='True label'>"
      ]
     },
     "execution_count": 9,
     "metadata": {},
     "output_type": "execute_result"
    },
    {
     "data": {
      "image/png": "[encoded data removed]",
      "text/plain": [
       "<Figure size 432x288 with 1 Axes>"
      ]
     },
     "metadata": {},
     "output_type": "display_data"
    },
    {
     "data": {
      "image/png": "[encoded data removed]",
      "text/plain": [
       "<Figure size 432x288 with 2 Axes>"
      ]
     },
     "metadata": {
      "needs_background": "light"
     },
     "output_type": "display_data"
    }
   ],
   "source": [
    "\n",
    "df2=pd.read_csv(\"./data/Friday-WorkingHours-Afternoon-PortScan.pcap_ISCX.csv\")\n",
    "# print(df2[' Label'].value_counts())\n",
    "# PortScan    158930\n",
    "# BENIGN      127537\n",
    "# Name:  Label, dtype: int64\n",
    "\n",
    "\n",
    "df2[' Label'] = df2[' Label'].replace(['BENIGN'], 0)\n",
    "df2[' Label'] = df2[' Label'].replace(['PortScan'], 1)\n",
    "\n",
    "df = preprosess(df2)\n",
    "\n",
    "features=[\" Fwd Packet Length Max\",\" Flow IAT Std\",\" Fwd Packet Length Std\" ,\"Fwd IAT Total\",' Flow Duration', \" Fwd Packet Length Mean\", \" Total Length of Bwd Packets\", \"Total Length of Fwd Packets\", \" Flow IAT Mean\", \" Bwd Packet Length Mean\",  \" Flow IAT Max\", \" Bwd Packet Length Std\", ' Total Fwd Packets', ' Total Backward Packets',' Label']\n",
    "\n",
    "df = df[features].copy()\n",
    "\n",
    "print(df[' Label'].value_counts())\n",
    "\n",
    "\n",
    "X = df.drop([' Label'], axis=1)\n",
    "y = df[' Label']\n",
    "\n",
    "print(X.head(1))\n",
    "rus = RandomUnderSampler(sampling_strategy=1) # Numerical value\n",
    "X_res, y_res = rus.fit_resample(X, y)\n",
    "print(\"======================================\")\n",
    "print(X_res.head(1))\n",
    "ax = y_res.value_counts().plot.pie(autopct='%.2f')\n",
    "_ = ax.set_title(\"Under-sampling\")\n",
    "print(\"-----------------------\")\n",
    "print(y_res.value_counts())\n",
    "\n",
    "X_train, X_test, y_train, y_test=train_test_split(X_res,y_res,test_size=0.2, random_state=10)\n",
    "\n",
    "model = AdaBoostClassifier()\n",
    "    \n",
    "# Fitting the model is synonymous to training the model. Need to call .ravel() to get array in correct format.\n",
    "model.fit(X_train, y_train.ravel())\n",
    "\n",
    "# Using the model to predict the label/ classes, based upon X_test data only. This is the model's answers.\n",
    "pred_y = model.predict(X_test)\n",
    "\n",
    "pred_y = model.predict(X_test) # 5)\n",
    "score = classification_report(y_test, pred_y) # 6)\n",
    "print('Classification report: \\n', score, '\\n')\n",
    "\n",
    "plot_confusion_matrix(y_test, pred_y, title='Confusion Matrix for {}'.format(\"AdaBoostClassifier\"))\n",
    "\n",
    "# with open('PortScan_detection_AdaBoost_model.pkl', 'wb') as f:\n",
    "#     pickle.dump(model, f)\n",
    "\n"
   ]
  },
  {
   "cell_type": "code",
   "execution_count": 29,
   "metadata": {},
   "outputs": [
    {
     "name": "stdout",
     "output_type": "stream",
     "text": [
      "0    188955\n",
      "1      1956\n",
      "Name:  Label, dtype: int64\n",
      "0    1956\n",
      "1    1956\n",
      "Name:  Label, dtype: int64\n",
      "Classification report: \n",
      "               precision    recall  f1-score   support\n",
      "\n",
      "           0       0.99      0.98      0.99       397\n",
      "           1       0.98      0.99      0.99       386\n",
      "\n",
      "    accuracy                           0.99       783\n",
      "   macro avg       0.99      0.99      0.99       783\n",
      "weighted avg       0.99      0.99      0.99       783\n",
      " \n",
      "\n"
     ]
    },
    {
     "data": {
      "image/png": "[encoded data removed]",
      "text/plain": [
       "<Figure size 432x288 with 1 Axes>"
      ]
     },
     "metadata": {},
     "output_type": "display_data"
    },
    {
     "data": {
      "image/png": "[encoded data removed]",
      "text/plain": [
       "<Figure size 432x288 with 2 Axes>"
      ]
     },
     "metadata": {
      "needs_background": "light"
     },
     "output_type": "display_data"
    }
   ],
   "source": [
    "\n",
    "df3=pd.read_csv(\"./data/Friday-WorkingHours-Morning.pcap_ISCX.csv\")\n",
    "# print(df3[' Label'].value_counts())\n",
    "# BENIGN    189067\n",
    "# Bot         1966\n",
    "# Name:  Label, dtype: int64\n",
    "\n",
    "\n",
    "# df1[\" Label\"] = df1[\" Label\"].replace([\"FTP-Patator\",\"SSH-Patator\"],\"Patator\")\n",
    "\n",
    "df3[' Label'] = df3[' Label'].replace(['BENIGN'], 0)\n",
    "df3[' Label'] = df3[' Label'].replace(['Bot'], 1)\n",
    "\n",
    "df = preprosess(df3)\n",
    "\n",
    "features=[\" Fwd Packet Length Max\",\" Flow IAT Std\",\" Fwd Packet Length Std\" ,\"Fwd IAT Total\",' Flow Duration', \" Fwd Packet Length Mean\", \" Total Length of Bwd Packets\", \"Total Length of Fwd Packets\", \" Flow IAT Mean\", \" Bwd Packet Length Mean\",  \" Flow IAT Max\", \" Bwd Packet Length Std\", ' Total Fwd Packets', ' Total Backward Packets',' Label']\n",
    "\n",
    "df = df[features].copy()\n",
    "\n",
    "print(df[' Label'].value_counts())\n",
    "\n",
    "\n",
    "X = df.drop([' Label'], axis=1)\n",
    "y = df[' Label']\n",
    "\n",
    "rus = RandomUnderSampler(sampling_strategy=1) # Numerical value\n",
    "X_res, y_res = rus.fit_resample(X, y)\n",
    "\n",
    "ax = y_res.value_counts().plot.pie(autopct='%.2f')\n",
    "_ = ax.set_title(\"Under-sampling\")\n",
    "\n",
    "print(\"-----------------------\")\n",
    "print(y_res.value_counts())\n",
    "\n",
    "X_train, X_test, y_train, y_test=train_test_split(X_res,y_res,test_size=0.2, random_state=10)\n",
    "\n",
    "model = AdaBoostClassifier()\n",
    "    \n",
    "# Fitting the model is synonymous to training the model. Need to call .ravel() to get array in correct format.\n",
    "model.fit(X_train, y_train.ravel())\n",
    "\n",
    "# Using the model to predict the label/ classes, based upon X_test data only. This is the model's answers.\n",
    "pred_y = model.predict(X_test)\n",
    "\n",
    "pred_y = model.predict(X_test) # 5)\n",
    "score = classification_report(y_test, pred_y) # 6)\n",
    "print('Classification report: \\n', score, '\\n')\n",
    "\n",
    "plot_confusion_matrix(y_test, pred_y, title='Confusion Matrix for {}'.format(\"AdaBoostClassifier\"))\n",
    "\n",
    "with open('Bot_detection_AdaBoost_model.pkl', 'wb') as f:\n",
    "    pickle.dump(model, f)\n",
    "\n"
   ]
  },
  {
   "cell_type": "code",
   "execution_count": 54,
   "metadata": {},
   "outputs": [
    {
     "name": "stdout",
     "output_type": "stream",
     "text": [
      "0    168051\n",
      "1      2180\n",
      "Name:  Label, dtype: int64\n",
      "-----------------------\n",
      "0    2180\n",
      "1    2180\n",
      "Name:  Label, dtype: int64\n",
      "Classification report: \n",
      "               precision    recall  f1-score   support\n",
      "\n",
      "           0       1.00      0.95      0.97       452\n",
      "           1       0.95      1.00      0.97       420\n",
      "\n",
      "    accuracy                           0.97       872\n",
      "   macro avg       0.97      0.97      0.97       872\n",
      "weighted avg       0.97      0.97      0.97       872\n",
      " \n",
      "\n"
     ]
    },
    {
     "data": {
      "image/png": "[encoded data removed]",
      "text/plain": [
       "<Figure size 432x288 with 1 Axes>"
      ]
     },
     "metadata": {},
     "output_type": "display_data"
    },
    {
     "data": {
      "image/png": "[encoded data removed]",
      "text/plain": [
       "<Figure size 432x288 with 2 Axes>"
      ]
     },
     "metadata": {
      "needs_background": "light"
     },
     "output_type": "display_data"
    }
   ],
   "source": [
    "df6=pd.read_csv(\"./data/Thursday-WorkingHours-Morning-WebAttacks.pcap_ISCX.csv\")\n",
    "# print(df6[' Label'].value_counts())\n",
    "# BENIGN                        168186\n",
    "# Web Attack � Brute Force        1507\n",
    "# Web Attack � XSS                 652\n",
    "# Web Attack � Sql Injection        21\n",
    "# Name:  Label, dtype: int64\n",
    "\n",
    "\n",
    "df6[\" Label\"] = df6[\" Label\"].replace([\"Web Attack � Brute Force\",\"Web Attack � XSS\",\"Web Attack � Sql Injection\"],\"Web Attack\")\n",
    "\n",
    "df6[' Label'] = df6[' Label'].replace(['BENIGN'], 0)\n",
    "df6[' Label'] = df6[' Label'].replace(['Web Attack'], 1)\n",
    "\n",
    "df = preprosess(df6)\n",
    "\n",
    "features=[\" Fwd Packet Length Max\",\" Flow IAT Std\",\" Fwd Packet Length Std\" ,\"Fwd IAT Total\",' Flow Duration', \" Fwd Packet Length Mean\", \" Total Length of Bwd Packets\", \"Total Length of Fwd Packets\", \" Flow IAT Mean\", \" Bwd Packet Length Mean\",  \" Flow IAT Max\", \" Bwd Packet Length Std\", ' Total Fwd Packets', ' Total Backward Packets',' Label']\n",
    "\n",
    "df = df[features].copy()\n",
    "\n",
    "print(df[' Label'].value_counts())\n",
    "\n",
    "\n",
    "X = df.drop([' Label'], axis=1)\n",
    "y = df[' Label']\n",
    "\n",
    "rus = RandomUnderSampler(sampling_strategy=1) # Numerical value\n",
    "X_res, y_res = rus.fit_resample(X, y)\n",
    "\n",
    "ax = y_res.value_counts().plot.pie(autopct='%.2f')\n",
    "_ = ax.set_title(\"Under-sampling\")\n",
    "\n",
    "print(\"-----------------------\")\n",
    "print(y_res.value_counts())\n",
    "\n",
    "X_train, X_test, y_train, y_test=train_test_split(X_res,y_res,test_size=0.2, random_state=10)\n",
    "\n",
    "model = AdaBoostClassifier()\n",
    "    \n",
    "# Fitting the model is synonymous to training the model. Need to call .ravel() to get array in correct format.\n",
    "model.fit(X_train, y_train.ravel())\n",
    "\n",
    "# Using the model to predict the label/ classes, based upon X_test data only. This is the model's answers.\n",
    "pred_y = model.predict(X_test)\n",
    "\n",
    "pred_y = model.predict(X_test) # 5)\n",
    "score = classification_report(y_test, pred_y) # 6)\n",
    "print('Classification report: \\n', score, '\\n')\n",
    "\n",
    "plot_confusion_matrix(y_test, pred_y, title='Confusion Matrix for {}'.format(\"AdaBoostClassifier\"))\n",
    "\n",
    "with open('WebAttack_detection_AdaBoost_model.pkl', 'wb') as f:\n",
    "    pickle.dump(model, f)\n",
    "\n"
   ]
  },
  {
   "cell_type": "code",
   "execution_count": 47,
   "metadata": {},
   "outputs": [
    {
     "name": "stdout",
     "output_type": "stream",
     "text": [
      "BENIGN         432074\n",
      "FTP-Patator      7938\n",
      "SSH-Patator      5897\n",
      "Name:  Label, dtype: int64\n",
      "0    432074\n",
      "1     13835\n",
      "Name:  Label, dtype: int64\n",
      "0    431813\n",
      "1     13832\n",
      "Name:  Label, dtype: int64\n",
      "-----------------------\n",
      "0    13832\n",
      "1    13832\n",
      "Name:  Label, dtype: int64\n",
      "Classification report: \n",
      "               precision    recall  f1-score   support\n",
      "\n",
      "           0       0.99      0.93      0.96      2758\n",
      "           1       0.93      0.99      0.96      2775\n",
      "\n",
      "    accuracy                           0.96      5533\n",
      "   macro avg       0.96      0.96      0.96      5533\n",
      "weighted avg       0.96      0.96      0.96      5533\n",
      " \n",
      "\n"
     ]
    },
    {
     "data": {
      "image/png": "[encoded data removed]",
      "text/plain": [
       "<Figure size 432x288 with 1 Axes>"
      ]
     },
     "metadata": {},
     "output_type": "display_data"
    },
    {
     "data": {
      "image/png": "[encoded data removed]",
      "text/plain": [
       "<Figure size 432x288 with 2 Axes>"
      ]
     },
     "metadata": {
      "needs_background": "light"
     },
     "output_type": "display_data"
    }
   ],
   "source": [
    "del df\n",
    "\n",
    "df7=pd.read_csv(\"./data/Tuesday-WorkingHours.pcap_ISCX.csv\")\n",
    "print(df7[' Label'].value_counts())\n",
    "# BENIGN         432074\n",
    "# FTP-Patator      7938\n",
    "# SSH-Patator      5897\n",
    "# Name:  Label, dtype: int64\n",
    "\n",
    "\n",
    "df7[\" Label\"] = df7[\" Label\"].replace([\"FTP-Patator\",\"SSH-Patator\"],\"Patator\")\n",
    "\n",
    "df7[' Label'] = df7[' Label'].replace(['BENIGN'], 0)\n",
    "df7[' Label'] = df7[' Label'].replace(['Patator'], 1)\n",
    "\n",
    "df = preprosess(df7)\n",
    "# print(df.info())\n",
    "print(df7[' Label'].value_counts())\n",
    "features=[\" Fwd Packet Length Max\",\" Flow IAT Std\",\" Fwd Packet Length Std\" ,\"Fwd IAT Total\",' Flow Duration', \" Fwd Packet Length Mean\", \" Total Length of Bwd Packets\", \"Total Length of Fwd Packets\", \" Flow IAT Mean\", \" Bwd Packet Length Mean\",  \" Flow IAT Max\", \" Bwd Packet Length Std\", ' Total Fwd Packets', ' Total Backward Packets',' Label']\n",
    "\n",
    "df = df[features].copy()\n",
    "\n",
    "print(df[' Label'].value_counts())\n",
    "\n",
    "\n",
    "X = df.drop([' Label'], axis=1)\n",
    "y = df[' Label']\n",
    "\n",
    "rus = RandomUnderSampler(sampling_strategy=1) # Numerical value\n",
    "X_res, y_res = rus.fit_resample(X, y)\n",
    "\n",
    "ax = y_res.value_counts().plot.pie(autopct='%.2f')\n",
    "_ = ax.set_title(\"Under-sampling\")\n",
    "\n",
    "print(\"-----------------------\")\n",
    "print(y_res.value_counts())\n",
    "\n",
    "X_train, X_test, y_train, y_test=train_test_split(X_res,y_res,test_size=0.2, random_state=10)\n",
    "\n",
    "model = AdaBoostClassifier()\n",
    "    \n",
    "# Fitting the model is synonymous to training the model. Need to call .ravel() to get array in correct format.\n",
    "model.fit(X_train, y_train.ravel())\n",
    "\n",
    "# Using the model to predict the label/ classes, based upon X_test data only. This is the model's answers.\n",
    "pred_y = model.predict(X_test)\n",
    "\n",
    "pred_y = model.predict(X_test) # 5)\n",
    "score = classification_report(y_test, pred_y) # 6)\n",
    "print('Classification report: \\n', score, '\\n')\n",
    "\n",
    "plot_confusion_matrix(y_test, pred_y, title='Confusion Matrix for {}'.format(\"AdaBoostClassifier\"))\n",
    "\n",
    "with open('Patator_detection_AdaBoost_model.pkl', 'wb') as f:\n",
    "    pickle.dump(model, f)\n",
    "\n"
   ]
  },
  {
   "cell_type": "code",
   "execution_count": 56,
   "metadata": {},
   "outputs": [
    {
     "name": "stdout",
     "output_type": "stream",
     "text": [
      "0    439683\n",
      "1    251712\n",
      "Name:  Label, dtype: int64\n",
      "-----------------------\n",
      "0    251712\n",
      "1    251712\n",
      "Name:  Label, dtype: int64\n",
      "Classification report: \n",
      "               precision    recall  f1-score   support\n",
      "\n",
      "           0       1.00      0.99      0.99     25231\n",
      "           1       0.99      1.00      0.99     25112\n",
      "\n",
      "    accuracy                           0.99     50343\n",
      "   macro avg       0.99      0.99      0.99     50343\n",
      "weighted avg       0.99      0.99      0.99     50343\n",
      " \n",
      "\n"
     ]
    },
    {
     "data": {
      "image/png": "[encoded data removed]",
      "text/plain": [
       "<Figure size 432x288 with 1 Axes>"
      ]
     },
     "metadata": {},
     "output_type": "display_data"
    },
    {
     "data": {
      "image/png": "[encoded data removed]",
      "text/plain": [
       "<Figure size 432x288 with 2 Axes>"
      ]
     },
     "metadata": {
      "needs_background": "light"
     },
     "output_type": "display_data"
    }
   ],
   "source": [
    "df8=pd.read_csv(\"./data/Wednesday-workingHours.pcap_ISCX.csv\")\n",
    "# print(df8[' Label'].value_counts())\n",
    "# BENIGN              440031\n",
    "# DoS Hulk            231073\n",
    "# DoS GoldenEye        10293\n",
    "# DoS slowloris         5796\n",
    "# DoS Slowhttptest      5499\n",
    "# Heartbleed              11\n",
    "# Name:  Label, dtype: int64\n",
    "\n",
    "\n",
    "\n",
    "df8[\" Label\"] = df8[\" Label\"].replace([\"DoS Hulk\",\"DoS GoldenEye\",\"DoS slowloris\",\"DoS Slowhttptest\"],\"DoS\")\n",
    "# remove Heartbleed attacks\n",
    "df8.drop(df8.loc[df8[' Label']== \"Heartbleed\"].index, inplace=True)\n",
    "\n",
    "df8[' Label'] = df8[' Label'].replace(['BENIGN'], 0)\n",
    "df8[' Label'] = df8[' Label'].replace(['DoS'], 1)\n",
    "\n",
    "\n",
    "\n",
    "df = preprosess(df8)\n",
    "\n",
    "features=[\" Fwd Packet Length Max\",\" Flow IAT Std\",\" Fwd Packet Length Std\" ,\"Fwd IAT Total\",' Flow Duration', \" Fwd Packet Length Mean\", \" Total Length of Bwd Packets\", \"Total Length of Fwd Packets\", \" Flow IAT Mean\", \" Bwd Packet Length Mean\",  \" Flow IAT Max\", \" Bwd Packet Length Std\", ' Total Fwd Packets', ' Total Backward Packets',' Label']\n",
    "\n",
    "df = df[features].copy()\n",
    "\n",
    "print(df[' Label'].value_counts())\n",
    "\n",
    "\n",
    "X = df.drop([' Label'], axis=1)\n",
    "y = df[' Label']\n",
    "\n",
    "rus = RandomUnderSampler(sampling_strategy=1) # Numerical value\n",
    "X_res, y_res = rus.fit_resample(X, y)\n",
    "\n",
    "ax = y_res.value_counts().plot.pie(autopct='%.2f')\n",
    "_ = ax.set_title(\"Under-sampling\")\n",
    "\n",
    "print(\"-----------------------\")\n",
    "print(y_res.value_counts())\n",
    "\n",
    "X_train, X_test, y_train, y_test=train_test_split(X_res,y_res,test_size=0.1, random_state=10)\n",
    "\n",
    "model = AdaBoostClassifier()\n",
    "from sklearn.tree import DecisionTreeClassifier\n",
    "from sklearn.ensemble import RandomForestClassifier\n",
    "# model = RandomForestClassifier(max_depth=5, n_estimators=5, max_features=3)\n",
    "\n",
    "model = RandomForestClassifier()\n",
    "# model = DecisionTreeClassifier()\n",
    "    \n",
    "# Fitting the model is synonymous to training the model. Need to call .ravel() to get array in correct format.\n",
    "model.fit(X_train, y_train.ravel())\n",
    "\n",
    "# Using the model to predict the label/ classes, based upon X_test data only. This is the model's answers.\n",
    "pred_y = model.predict(X_test)\n",
    "\n",
    "score = classification_report(y_test, pred_y) \n",
    "print('Classification report: \\n', score, '\\n')\n",
    "\n",
    "plot_confusion_matrix(y_test, pred_y, title='Confusion Matrix for {}'.format(\"AdaBoostClassifier\"))\n",
    "\n",
    "with open('DoS_detection_AdaBoost_model.pkl', 'wb') as f:\n",
    "    pickle.dump(model, f)\n",
    "\n"
   ]
  },
  {
   "cell_type": "code",
   "execution_count": 50,
   "metadata": {},
   "outputs": [
    {
     "name": "stdout",
     "output_type": "stream",
     "text": [
      "[79.0, 25.510408401489258, 31.449237823486328, 479.0, 479.0, 15.636363983154297, 326.0, 172.0, 31.933332443237305, 65.19999694824219, 73.0, 89.27877807617188, 11.0, 5.0]\n",
      "[0] [[1. 0.]] 0\n"
     ]
    }
   ],
   "source": [
    "with open('DoS_detection_AdaBoost_model.pkl', 'rb') as f:\n",
    "    clf = pickle.load(f)\n",
    "\n",
    "# print(X_res.head(1))\n",
    "\n",
    "first_Row = X.loc[1, :].to_numpy().tolist() # [first_Row]\n",
    "# first_Row = X_res.loc[1,:].to_numpy().reshape(1,-1)\n",
    "# first_Row = X_res.head(1)\n",
    "\n",
    "print(first_Row)\n",
    "from sklearn.metrics import accuracy_score\n",
    "\n",
    "# print(type(single))\n",
    "label = clf.predict([first_Row])\n",
    "\n",
    "# accuracy_score( [y[1]], response, normalize=False)\n",
    "response = clf.predict_proba([first_Row])\n",
    "# print(response)\n",
    "print(label,response, y[1])\n",
    "\n",
    "# [[0.57980891 0.42019109]] 0 # [first_Row]\n",
    "# [[0.57980891 0.42019109]] 0\n",
    "# [[1. 0.]] 0\n"
   ]
  },
  {
   "cell_type": "code",
   "execution_count": 14,
   "metadata": {},
   "outputs": [
    {
     "name": "stdout",
     "output_type": "stream",
     "text": [
      "BENIGN     432074\n",
      "Patator     13835\n",
      "Name:  Label, dtype: int64\n",
      "0    431813\n",
      "1     13832\n",
      "Name:  Label, dtype: int64\n",
      "<class 'pandas.core.frame.DataFrame'>\n",
      "Int64Index: 445645 entries, 0 to 445908\n",
      "Data columns (total 15 columns):\n",
      " #   Column                        Non-Null Count   Dtype  \n",
      "---  ------                        --------------   -----  \n",
      " 0    Fwd Packet Length Max        445645 non-null  int32  \n",
      " 1    Flow IAT Std                 445645 non-null  float32\n",
      " 2    Fwd Packet Length Std        445645 non-null  float32\n",
      " 3   Fwd IAT Total                 445645 non-null  int32  \n",
      " 4    Flow Duration                445645 non-null  int32  \n",
      " 5    Fwd Packet Length Mean       445645 non-null  float32\n",
      " 6    Total Length of Bwd Packets  445645 non-null  int32  \n",
      " 7   Total Length of Fwd Packets   445645 non-null  int32  \n",
      " 8    Flow IAT Mean                445645 non-null  float32\n",
      " 9    Bwd Packet Length Mean       445645 non-null  float32\n",
      " 10   Flow IAT Max                 445645 non-null  int32  \n",
      " 11   Bwd Packet Length Std        445645 non-null  float32\n",
      " 12   Total Fwd Packets            445645 non-null  int32  \n",
      " 13   Total Backward Packets       445645 non-null  int32  \n",
      " 14   Label                        445645 non-null  int64  \n",
      "dtypes: float32(6), int32(8), int64(1)\n",
      "memory usage: 30.6 MB\n",
      "None\n",
      "0    13832\n",
      "1    13832\n",
      "Name:  Label, dtype: int64\n",
      "0.7442617025121996\n",
      "[[2737   21]\n",
      " [1394 1381]]\n"
     ]
    },
    {
     "data": {
      "image/png": "[encoded data removed]",
      "text/plain": [
       "<Figure size 432x288 with 1 Axes>"
      ]
     },
     "metadata": {},
     "output_type": "display_data"
    }
   ],
   "source": [
    "# from pyod.models.knn import KNN\n",
    "# from pyod.models.lof import LOF\n",
    "# from pyod.models.hbos import HBOS\n",
    "# from pyod.models.iforest import IForest\n",
    "# from pyod.models.cblof import CBLOF\n",
    "# from pyod.models.loci import LOCI\n",
    "# from pyod.models.sos import SOS\n",
    "from sklearn.linear_model import LogisticRegression\n",
    "from sklearn.metrics import accuracy_score, confusion_matrix\n",
    "from imblearn.under_sampling import RandomUnderSampler\n",
    "\n",
    "df7 = pd.read_csv(\"./data//Tuesday-WorkingHours.pcap_ISCX.csv\")\n",
    "\n",
    "df7[\" Label\"] = df7[\" Label\"].replace([\"FTP-Patator\",\"SSH-Patator\"],\"Patator\")\n",
    "print(df7[' Label'].value_counts())\n",
    "\n",
    "\n",
    "df7[' Label'] = df7[' Label'].replace(['BENIGN'], 0)\n",
    "df7[' Label'] = df7[' Label'].replace(['Patator'], 1)\n",
    "\n",
    "df = preprosess(df7)\n",
    "\n",
    "features=[\" Fwd Packet Length Max\",\" Flow IAT Std\",\" Fwd Packet Length Std\" ,\"Fwd IAT Total\",' Flow Duration', \" Fwd Packet Length Mean\", \" Total Length of Bwd Packets\", \"Total Length of Fwd Packets\", \" Flow IAT Mean\", \" Bwd Packet Length Mean\",  \" Flow IAT Max\", \" Bwd Packet Length Std\", ' Total Fwd Packets', ' Total Backward Packets',' Label']\n",
    "\n",
    "# print(df6.columns)\n",
    "df = df[features].copy()\n",
    "\n",
    "# print(df3[\" Label\"].unique())\n",
    "print(df[' Label'].value_counts())\n",
    "print(df.info())\n",
    "\n",
    "X = df.drop([' Label'], axis=1)\n",
    "y = df[' Label']\n",
    "# X = df[df.columns[0:-1]]\n",
    "# y = df[df.columns[-1]]\n",
    "\n",
    "rus = RandomUnderSampler(sampling_strategy=1) # Numerical value\n",
    "# rus = RandomUnderSampler(sampling_strategy=\"not minority\") # String\n",
    "X_res, y_res = rus.fit_resample(X, y)\n",
    "\n",
    "ax = y_res.value_counts().plot.pie(autopct='%.2f')\n",
    "_ = ax.set_title(\"Under-sampling\")\n",
    "\n",
    "# X_res.value_counts()\n",
    "print(y_res.value_counts())\n",
    "\n",
    "X_train, X_test, y_train, y_test=train_test_split(X_res,y_res,test_size=0.2, random_state=10)\n",
    "# X_train, X_test, y_train, y_test=train_test_split(X_train, y_train,test_size=0.2, random_state=10)\n",
    "\n",
    "\n",
    "# Initialize and train classifier model\n",
    "clf = LogisticRegression(solver='lbfgs', max_iter=100).fit(X_train, y_train)\n",
    "y_pred = clf.predict(X_test)\n",
    "\n",
    "# Compare test set predictions with ground truth labels\n",
    "print(accuracy_score(y_pred, y_test))\n",
    "print(confusion_matrix(y_test, y_pred))"
   ]
  },
  {
   "cell_type": "code",
   "execution_count": 17,
   "metadata": {},
   "outputs": [],
   "source": [
    "# !pip install scikit-plot"
   ]
  },
  {
   "cell_type": "code",
   "execution_count": 19,
   "metadata": {},
   "outputs": [
    {
     "name": "stdout",
     "output_type": "stream",
     "text": [
      "Classification report: \n",
      "               precision    recall  f1-score   support\n",
      "\n",
      "           0       0.97      0.95      0.96      2758\n",
      "           1       0.95      0.97      0.96      2775\n",
      "\n",
      "    accuracy                           0.96      5533\n",
      "   macro avg       0.96      0.96      0.96      5533\n",
      "weighted avg       0.96      0.96      0.96      5533\n",
      " \n",
      "\n"
     ]
    },
    {
     "data": {
      "text/plain": [
       "<AxesSubplot: title={'center': 'Confusion Matrix for KNeighborsClassifier'}, xlabel='Predicted label', ylabel='True label'>"
      ]
     },
     "execution_count": 19,
     "metadata": {},
     "output_type": "execute_result"
    },
    {
     "data": {
      "image/png": "[encoded data removed]",
      "text/plain": [
       "<Figure size 432x288 with 2 Axes>"
      ]
     },
     "metadata": {
      "needs_background": "light"
     },
     "output_type": "display_data"
    }
   ],
   "source": [
    "from scikitplot.metrics import plot_confusion_matrix # For plotting confusion matrices\n",
    "from sklearn.metrics import classification_report # Various metrics for model performance\n",
    "from sklearn.neighbors import KNeighborsClassifier # K-Nearest Neighbors ML classifier (default n. of neighbors = 5)\n",
    "from sklearn.neural_network import MLPClassifier # For Neural Network classifier\n",
    "\n",
    "model = KNeighborsClassifier(n_neighbors=5, weights='uniform',\n",
    "                                    algorithm='auto', leaf_size=30,\n",
    "                                    p=2, metric='minkowski',\n",
    "                                    metric_params=None, n_jobs=None)\n",
    "\n",
    "model.fit(X_train, y_train.ravel()) # 4)\n",
    "pred_y = model.predict(X_test) # 5)\n",
    "score = classification_report(y_test, pred_y) # 6)\n",
    "print('Classification report: \\n', score, '\\n')\n",
    "\n",
    "plot_confusion_matrix(y_test, pred_y, title='Confusion Matrix for {}'.format(\"KNeighborsClassifier\"))"
   ]
  },
  {
   "cell_type": "code",
   "execution_count": 23,
   "metadata": {},
   "outputs": [
    {
     "name": "stdout",
     "output_type": "stream",
     "text": [
      "Classification report: \n",
      "               precision    recall  f1-score   support\n",
      "\n",
      "           0       0.67      0.61      0.64      2758\n",
      "           1       0.64      0.70      0.67      2775\n",
      "\n",
      "    accuracy                           0.65      5533\n",
      "   macro avg       0.65      0.65      0.65      5533\n",
      "weighted avg       0.65      0.65      0.65      5533\n",
      " \n",
      "\n"
     ]
    },
    {
     "name": "stderr",
     "output_type": "stream",
     "text": [
      "/usr/local/lib/python3.8/dist-packages/sklearn/neural_network/_multilayer_perceptron.py:684: ConvergenceWarning: Stochastic Optimizer: Maximum iterations (2) reached and the optimization hasn't converged yet.\n",
      "  warnings.warn(\n"
     ]
    },
    {
     "data": {
      "text/plain": [
       "<AxesSubplot: title={'center': 'Confusion Matrix for MLPClassifier'}, xlabel='Predicted label', ylabel='True label'>"
      ]
     },
     "execution_count": 23,
     "metadata": {},
     "output_type": "execute_result"
    },
    {
     "data": {
      "image/png": "[encoded data removed]",
      "text/plain": [
       "<Figure size 432x288 with 2 Axes>"
      ]
     },
     "metadata": {
      "needs_background": "light"
     },
     "output_type": "display_data"
    }
   ],
   "source": [
    "from sklearn.neural_network import MLPClassifier # For Neural Network classifier\n",
    "\n",
    "model = MLPClassifier(hidden_layer_sizes=(10,), activation='relu',\n",
    "                                    solver='adam', alpha=0.01, batch_size='auto',\n",
    "                                    learning_rate='adaptive', learning_rate_init=0.1,\n",
    "                                    max_iter=2)\n",
    "    \n",
    "# Fitting the model is synonymous to training the model. Need to call .ravel() to get array in correct format.\n",
    "model.fit(X_train, y_train.ravel())\n",
    "\n",
    "# Using the model to predict the label/ classes, based upon X_test data only. This is the model's answers.\n",
    "pred_y = model.predict(X_test)\n",
    "\n",
    "pred_y = model.predict(X_test) # 5)\n",
    "score = classification_report(y_test, pred_y) # 6)\n",
    "print('Classification report: \\n', score, '\\n')\n",
    "\n",
    "plot_confusion_matrix(y_test, pred_y, title='Confusion Matrix for {}'.format(\"MLPClassifier\"))"
   ]
  },
  {
   "cell_type": "code",
   "execution_count": 26,
   "metadata": {},
   "outputs": [
    {
     "name": "stdout",
     "output_type": "stream",
     "text": [
      "Classification report: \n",
      "               precision    recall  f1-score   support\n",
      "\n",
      "           0       0.99      0.94      0.96      2758\n",
      "           1       0.94      0.99      0.96      2775\n",
      "\n",
      "    accuracy                           0.96      5533\n",
      "   macro avg       0.96      0.96      0.96      5533\n",
      "weighted avg       0.96      0.96      0.96      5533\n",
      " \n",
      "\n"
     ]
    },
    {
     "data": {
      "text/plain": [
       "<AxesSubplot: title={'center': 'Confusion Matrix for AdaBoostClassifier'}, xlabel='Predicted label', ylabel='True label'>"
      ]
     },
     "execution_count": 26,
     "metadata": {},
     "output_type": "execute_result"
    },
    {
     "data": {
      "image/png": "[encoded data removed]",
      "text/plain": [
       "<Figure size 432x288 with 2 Axes>"
      ]
     },
     "metadata": {
      "needs_background": "light"
     },
     "output_type": "display_data"
    }
   ],
   "source": [
    "from sklearn.ensemble import AdaBoostClassifier\n",
    "\n",
    "\n",
    "model = AdaBoostClassifier()\n",
    "    \n",
    "# Fitting the model is synonymous to training the model. Need to call .ravel() to get array in correct format.\n",
    "model.fit(X_train, y_train.ravel())\n",
    "\n",
    "# Using the model to predict the label/ classes, based upon X_test data only. This is the model's answers.\n",
    "pred_y = model.predict(X_test)\n",
    "\n",
    "pred_y = model.predict(X_test) # 5)\n",
    "score = classification_report(y_test, pred_y) # 6)\n",
    "print('Classification report: \\n', score, '\\n')\n",
    "\n",
    "plot_confusion_matrix(y_test, pred_y, title='Confusion Matrix for {}'.format(\"AdaBoostClassifier\"))"
   ]
  },
  {
   "cell_type": "code",
   "execution_count": 32,
   "metadata": {},
   "outputs": [
    {
     "name": "stdout",
     "output_type": "stream",
     "text": [
      "Classification report: \n",
      "               precision    recall  f1-score   support\n",
      "\n",
      "           0       0.98      0.95      0.97      2758\n",
      "           1       0.95      0.98      0.97      2775\n",
      "\n",
      "    accuracy                           0.97      5533\n",
      "   macro avg       0.97      0.97      0.97      5533\n",
      "weighted avg       0.97      0.97      0.97      5533\n",
      " \n",
      "\n"
     ]
    },
    {
     "data": {
      "text/plain": [
       "<AxesSubplot: title={'center': 'Confusion Matrix for RandomForestClassifier'}, xlabel='Predicted label', ylabel='True label'>"
      ]
     },
     "execution_count": 32,
     "metadata": {},
     "output_type": "execute_result"
    },
    {
     "data": {
      "image/png": "[encoded data removed]",
      "text/plain": [
       "<Figure size 432x288 with 2 Axes>"
      ]
     },
     "metadata": {
      "needs_background": "light"
     },
     "output_type": "display_data"
    }
   ],
   "source": [
    "from sklearn.tree import DecisionTreeClassifier\n",
    "model = RandomForestClassifier(max_depth=17, max_features=10, min_samples_leaf=3, n_estimators=50, random_state=42, oob_score=True)\n",
    "# rfc = RandomForestClassifier(n_estimators=250, random_state=1)\n",
    "model.fit(X_train, y_train)\n",
    "pred_y = model.predict(X_test)\n",
    "\n",
    "pred_y = model.predict(X_test) # 5)\n",
    "score = classification_report(y_test, pred_y) # 6)\n",
    "print('Classification report: \\n', score, '\\n')\n",
    "\n",
    "plot_confusion_matrix(y_test, pred_y, title='Confusion Matrix for {}'.format(\"RandomForestClassifier\"))\n"
   ]
  },
  {
   "cell_type": "code",
   "execution_count": 4,
   "metadata": {},
   "outputs": [
    {
     "name": "stdout",
     "output_type": "stream",
     "text": [
      "0    168051\n",
      "1      2180\n",
      "Name:  Label, dtype: int64\n",
      "<class 'pandas.core.frame.DataFrame'>\n",
      "Int64Index: 170231 entries, 0 to 170365\n",
      "Data columns (total 15 columns):\n",
      " #   Column                        Non-Null Count   Dtype  \n",
      "---  ------                        --------------   -----  \n",
      " 0    Fwd Packet Length Max        170231 non-null  int32  \n",
      " 1    Flow IAT Std                 170231 non-null  float32\n",
      " 2    Fwd Packet Length Std        170231 non-null  float32\n",
      " 3   Fwd IAT Total                 170231 non-null  int32  \n",
      " 4    Flow Duration                170231 non-null  int32  \n",
      " 5    Fwd Packet Length Mean       170231 non-null  float32\n",
      " 6    Total Length of Bwd Packets  170231 non-null  int32  \n",
      " 7   Total Length of Fwd Packets   170231 non-null  int32  \n",
      " 8    Flow IAT Mean                170231 non-null  float32\n",
      " 9    Bwd Packet Length Mean       170231 non-null  float32\n",
      " 10   Flow IAT Max                 170231 non-null  int32  \n",
      " 11   Bwd Packet Length Std        170231 non-null  float32\n",
      " 12   Total Fwd Packets            170231 non-null  int32  \n",
      " 13   Total Backward Packets       170231 non-null  int32  \n",
      " 14   Label                        170231 non-null  int64  \n",
      "dtypes: float32(6), int32(8), int64(1)\n",
      "memory usage: 11.7 MB\n",
      "None\n",
      "Model\tAcc\tPr\tRecall\tF1\tExecution\n",
      "KNN\t0.999\t0.989\t0.902\t0.999\t23.23 secs\n",
      "CART\t0.995\t0.742\t0.884\t0.995\t6.20 secs\n",
      "RF\t0.994\t0.742\t0.866\t0.995\t4.93 secs\n",
      "ABoost\t0.995\t0.746\t0.903\t0.995\t86.82 secs\n",
      "LR\t0.986\t0.000\t0.000\t0.981\t39.77 secs\n",
      "NB\t0.854\t0.081\t0.876\t0.930\t0.84 secs\n",
      "LDA\t0.987\t0.448\t0.043\t0.982\t4.13 secs\n",
      "QDA\t0.770\t0.052\t0.986\t0.847\t2.12 secs\n",
      "MLP\t0.985\t0.100\t0.192\t0.979\t295.35 secs\n"
     ]
    }
   ],
   "source": [
    "import time\n",
    "import warnings\n",
    "warnings.filterwarnings(\"ignore\")\n",
    "\n",
    "from sklearn import model_selection\n",
    "from sklearn.model_selection import cross_val_score\n",
    "from sklearn.neighbors import KNeighborsClassifier\n",
    "from sklearn.svm import SVC\n",
    "from sklearn.tree import DecisionTreeClassifier\n",
    "from sklearn.ensemble import RandomForestClassifier\n",
    "from sklearn.ensemble import AdaBoostClassifier\n",
    "from sklearn.linear_model import LogisticRegression\n",
    "from sklearn.naive_bayes import GaussianNB\n",
    "from sklearn.discriminant_analysis import LinearDiscriminantAnalysis\n",
    "from sklearn.discriminant_analysis import QuadraticDiscriminantAnalysis\n",
    "from sklearn.neural_network import MLPClassifier\n",
    "\n",
    "\n",
    "df6 = pd.read_csv(\"./data/Thursday-WorkingHours-Morning-WebAttacks.pcap_ISCX.csv\")\n",
    "df6[\" Label\"] = df6[\" Label\"].replace([\"Web Attack � Brute Force\",\"Web Attack � XSS\",\"Web Attack � Sql Injection\"],\"Web Attack\")\n",
    "# print(df6[\" Label\"].unique())\n",
    "df6[' Label'].value_counts()\n",
    "\n",
    "df6[' Label'] = df6[' Label'].replace(['BENIGN'], 0)\n",
    "df6[' Label'] = df6[' Label'].replace(['Web Attack'], 1)\n",
    "\n",
    "df = preprosess(df6)\n",
    "\n",
    "features=[\" Fwd Packet Length Max\",\" Flow IAT Std\",\" Fwd Packet Length Std\" ,\"Fwd IAT Total\",' Flow Duration', \" Fwd Packet Length Mean\", \" Total Length of Bwd Packets\", \"Total Length of Fwd Packets\", \" Flow IAT Mean\", \" Bwd Packet Length Mean\",  \" Flow IAT Max\", \" Bwd Packet Length Std\", ' Total Fwd Packets', ' Total Backward Packets',' Label']\n",
    "\n",
    "# print(df6.columns)\n",
    "df = df[features].copy()\n",
    "\n",
    "# print(df3[\" Label\"].unique())\n",
    "print(df[' Label'].value_counts())\n",
    "print(df.info())\n",
    "\n",
    "X = df.drop([' Label'], axis=1)\n",
    "y = df[' Label']\n",
    "# X = df[df.columns[0:-1]]\n",
    "# y = df[df.columns[-1]]\n",
    "\n",
    "X_train, X_test, y_train, y_test=train_test_split(X,y,test_size=0.2, random_state=10)\n",
    "\n",
    "\n",
    "models = []\n",
    "models.append(('KNN', KNeighborsClassifier()))\n",
    "# models.append(('SVM', SVC(gamma='auto')))\n",
    "models.append(('CART', DecisionTreeClassifier(max_depth=5)))\n",
    "models.append(('RF', RandomForestClassifier(max_depth=5, n_estimators=5, max_features=3)))    \n",
    "models.append(('ABoost', AdaBoostClassifier()))\n",
    "models.append(('LR', LogisticRegression(solver='lbfgs', max_iter=200)))\n",
    "models.append(('NB', GaussianNB()))\n",
    "models.append(('LDA', LinearDiscriminantAnalysis()))\n",
    "models.append(('QDA', QuadraticDiscriminantAnalysis()))\n",
    "models.append(('MLP', MLPClassifier()))\n",
    "\n",
    "print('Model\\tAcc\\tPr\\tRecall\\tF1\\tExecution')\n",
    "      \n",
    "for name, model in models:\n",
    "    start_time = time.time()\n",
    "    kfold = model_selection.KFold(n_splits=5, random_state=24, shuffle=True)    \n",
    "\n",
    "    accuracy = cross_val_score(model, X_train, y_train, cv=kfold, scoring='accuracy').mean()\n",
    "    precision = cross_val_score(model, X_train, y_train, cv=kfold, scoring='precision').mean()\n",
    "    recall = cross_val_score(model, X_train, y_train, cv=kfold, scoring='recall').mean()\n",
    "    f1_score = cross_val_score(model, X, y, cv=kfold, scoring='f1_weighted').mean()\n",
    "    \n",
    "    delta = time.time() - start_time\n",
    "    print('{}\\t{:.3f}\\t{:.3f}\\t{:.3f}\\t{:.3f}\\t{:.2f} secs'.format(name, accuracy, precision, recall, f1_score, delta))"
   ]
  },
  {
   "cell_type": "code",
   "execution_count": 5,
   "metadata": {},
   "outputs": [
    {
     "name": "stdout",
     "output_type": "stream",
     "text": [
      "0    2180\n",
      "1    2180\n",
      "Name:  Label, dtype: int64\n",
      "Model\tAcc\tPr\tRecall\tF1\tExecution\n",
      "KNN\t0.960\t0.948\t0.974\t0.999\t7.07 secs\n",
      "CART\t0.968\t0.963\t0.977\t0.995\t1.93 secs\n",
      "RF\t0.973\t0.961\t0.983\t0.995\t1.60 secs\n",
      "ABoost\t0.969\t0.961\t0.979\t0.995\t26.12 secs\n",
      "LR\t0.729\t0.690\t0.894\t0.981\t14.75 secs\n",
      "NB\t0.907\t0.899\t0.918\t0.930\t0.32 secs\n",
      "LDA\t0.826\t0.746\t0.993\t0.982\t1.36 secs\n",
      "QDA\t0.876\t0.811\t0.984\t0.847\t0.65 secs\n",
      "MLP\t0.849\t0.615\t0.913\t0.981\t82.91 secs\n"
     ]
    },
    {
     "data": {
      "image/png": "[encoded data removed]",
      "text/plain": [
       "<Figure size 432x288 with 1 Axes>"
      ]
     },
     "metadata": {},
     "output_type": "display_data"
    }
   ],
   "source": [
    "# import time\n",
    "# import warnings\n",
    "# warnings.filterwarnings(\"ignore\")\n",
    "\n",
    "# from sklearn import model_selection\n",
    "# from sklearn.model_selection import cross_val_score\n",
    "# from sklearn.neighbors import KNeighborsClassifier\n",
    "# from sklearn.svm import SVC\n",
    "# from sklearn.tree import DecisionTreeClassifier\n",
    "# from sklearn.ensemble import RandomForestClassifier\n",
    "# from sklearn.ensemble import AdaBoostClassifier\n",
    "# from sklearn.linear_model import LogisticRegression\n",
    "# from sklearn.naive_bayes import GaussianNB\n",
    "# from sklearn.discriminant_analysis import LinearDiscriminantAnalysis\n",
    "# from sklearn.discriminant_analysis import QuadraticDiscriminantAnalysis\n",
    "# from sklearn.neural_network import MLPClassifier\n",
    "\n",
    "\n",
    "# df6 = pd.read_csv(\"./data/Thursday-WorkingHours-Morning-WebAttacks.pcap_ISCX.csv\")\n",
    "# df6[\" Label\"] = df6[\" Label\"].replace([\"Web Attack � Brute Force\",\"Web Attack � XSS\",\"Web Attack � Sql Injection\"],\"Web Attack\")\n",
    "# # print(df6[\" Label\"].unique())\n",
    "# df6[' Label'].value_counts()\n",
    "\n",
    "# df6[' Label'] = df6[' Label'].replace(['BENIGN'], 0)\n",
    "# df6[' Label'] = df6[' Label'].replace(['Web Attack'], 1)\n",
    "\n",
    "# df = preprosess(df6)\n",
    "\n",
    "# features=[\" Fwd Packet Length Max\",\" Flow IAT Std\",\" Fwd Packet Length Std\" ,\"Fwd IAT Total\",' Flow Duration', \" Fwd Packet Length Mean\", \" Total Length of Bwd Packets\", \"Total Length of Fwd Packets\", \" Flow IAT Mean\", \" Bwd Packet Length Mean\",  \" Flow IAT Max\", \" Bwd Packet Length Std\", ' Total Fwd Packets', ' Total Backward Packets',' Label']\n",
    "\n",
    "\n",
    "# print(df[' Label'].value_counts())\n",
    "# print(df.info())\n",
    "\n",
    "# X = df.drop([' Label'], axis=1)\n",
    "# y = df[' Label']\n",
    "# # X = df[df.columns[0:-1]]\n",
    "# # y = df[df.columns[-1]]\n",
    "\n",
    "rus = RandomUnderSampler(sampling_strategy=1) # Numerical value\n",
    "# rus = RandomUnderSampler(sampling_strategy=\"not minority\") # String\n",
    "X_res, y_res = rus.fit_resample(X, y)\n",
    "\n",
    "ax = y_res.value_counts().plot.pie(autopct='%.2f')\n",
    "_ = ax.set_title(\"Under-sampling\")\n",
    "\n",
    "# X_res.value_counts()\n",
    "print(y_res.value_counts())\n",
    "\n",
    "\n",
    "\n",
    "X_train, X_test, y_train, y_test=train_test_split(X_res,y_res,test_size=0.1, random_state=10)\n",
    "\n",
    "\n",
    "models = []\n",
    "models.append(('KNN', KNeighborsClassifier()))\n",
    "# models.append(('SVM', SVC(gamma='auto')))\n",
    "models.append(('CART', DecisionTreeClassifier(max_depth=5)))\n",
    "models.append(('RF', RandomForestClassifier(max_depth=5, n_estimators=5, max_features=3)))    \n",
    "models.append(('ABoost', AdaBoostClassifier()))\n",
    "models.append(('LR', LogisticRegression(solver='lbfgs', max_iter=200)))\n",
    "models.append(('NB', GaussianNB()))\n",
    "models.append(('LDA', LinearDiscriminantAnalysis()))\n",
    "models.append(('QDA', QuadraticDiscriminantAnalysis()))\n",
    "models.append(('MLP', MLPClassifier()))\n",
    "\n",
    "print('Model\\tAcc\\tPr\\tRecall\\tF1\\tExecution')\n",
    "      \n",
    "for name, model in models:\n",
    "    start_time = time.time()\n",
    "    kfold = model_selection.KFold(n_splits=5, random_state=24, shuffle=True)    \n",
    "\n",
    "    accuracy = cross_val_score(model, X_train, y_train, cv=kfold, scoring='accuracy').mean()\n",
    "    precision = cross_val_score(model, X_train, y_train, cv=kfold, scoring='precision').mean()\n",
    "    recall = cross_val_score(model, X_train, y_train, cv=kfold, scoring='recall').mean()\n",
    "    f1_score = cross_val_score(model, X, y, cv=kfold, scoring='f1_weighted').mean()\n",
    "    \n",
    "    delta = time.time() - start_time\n",
    "    print('{}\\t{:.3f}\\t{:.3f}\\t{:.3f}\\t{:.3f}\\t{:.2f} secs'.format(name, accuracy, precision, recall, f1_score, delta))\n"
   ]
  },
  {
   "cell_type": "code",
   "execution_count": 46,
   "metadata": {},
   "outputs": [
    {
     "name": "stdout",
     "output_type": "stream",
     "text": [
      "0    439683\n",
      "1    251712\n",
      "Name:  Label, dtype: int64\n",
      "<class 'pandas.core.frame.DataFrame'>\n",
      "Int64Index: 691395 entries, 0 to 692702\n",
      "Data columns (total 15 columns):\n",
      " #   Column                        Non-Null Count   Dtype  \n",
      "---  ------                        --------------   -----  \n",
      " 0    Fwd Packet Length Max        691395 non-null  int32  \n",
      " 1    Flow IAT Std                 691395 non-null  float32\n",
      " 2    Fwd Packet Length Std        691395 non-null  float32\n",
      " 3   Fwd IAT Total                 691395 non-null  int32  \n",
      " 4    Flow Duration                691395 non-null  int32  \n",
      " 5    Fwd Packet Length Mean       691395 non-null  float32\n",
      " 6    Total Length of Bwd Packets  691395 non-null  int32  \n",
      " 7   Total Length of Fwd Packets   691395 non-null  int32  \n",
      " 8    Flow IAT Mean                691395 non-null  float32\n",
      " 9    Bwd Packet Length Mean       691395 non-null  float32\n",
      " 10   Flow IAT Max                 691395 non-null  int32  \n",
      " 11   Bwd Packet Length Std        691395 non-null  float32\n",
      " 12   Total Fwd Packets            691395 non-null  int32  \n",
      " 13   Total Backward Packets       691395 non-null  int32  \n",
      " 14   Label                        691395 non-null  int64  \n",
      "dtypes: float32(6), int32(8), int64(1)\n",
      "memory usage: 47.5 MB\n",
      "None\n",
      "Model\tAcc\tPr\tRecall\tF1\tExecution\n"
     ]
    },
    {
     "ename": "KeyboardInterrupt",
     "evalue": "",
     "output_type": "error",
     "traceback": [
      "\u001b[0;31m---------------------------------------------------------------------------\u001b[0m",
      "\u001b[0;31mKeyboardInterrupt\u001b[0m                         Traceback (most recent call last)",
      "\u001b[1;32m/home/ebryx/Documents/pcap_data_collections/server/anomaly-detection-all.ipynb Cell 21\u001b[0m in \u001b[0;36m<cell line: 71>\u001b[0;34m()\u001b[0m\n\u001b[1;32m     <a href='vscode-notebook-cell:/home/ebryx/Documents/pcap_data_collections/server/anomaly-detection-all.ipynb#X35sZmlsZQ%3D%3D?line=74'>75</a>\u001b[0m accuracy \u001b[39m=\u001b[39m cross_val_score(model, X_train, y_train, cv\u001b[39m=\u001b[39mkfold, scoring\u001b[39m=\u001b[39m\u001b[39m'\u001b[39m\u001b[39maccuracy\u001b[39m\u001b[39m'\u001b[39m)\u001b[39m.\u001b[39mmean()\n\u001b[1;32m     <a href='vscode-notebook-cell:/home/ebryx/Documents/pcap_data_collections/server/anomaly-detection-all.ipynb#X35sZmlsZQ%3D%3D?line=75'>76</a>\u001b[0m precision \u001b[39m=\u001b[39m cross_val_score(model, X_train, y_train, cv\u001b[39m=\u001b[39mkfold, scoring\u001b[39m=\u001b[39m\u001b[39m'\u001b[39m\u001b[39mprecision\u001b[39m\u001b[39m'\u001b[39m)\u001b[39m.\u001b[39mmean()\n\u001b[0;32m---> <a href='vscode-notebook-cell:/home/ebryx/Documents/pcap_data_collections/server/anomaly-detection-all.ipynb#X35sZmlsZQ%3D%3D?line=76'>77</a>\u001b[0m recall \u001b[39m=\u001b[39m cross_val_score(model, X_train, y_train, cv\u001b[39m=\u001b[39;49mkfold, scoring\u001b[39m=\u001b[39;49m\u001b[39m'\u001b[39;49m\u001b[39mrecall\u001b[39;49m\u001b[39m'\u001b[39;49m)\u001b[39m.\u001b[39mmean()\n\u001b[1;32m     <a href='vscode-notebook-cell:/home/ebryx/Documents/pcap_data_collections/server/anomaly-detection-all.ipynb#X35sZmlsZQ%3D%3D?line=77'>78</a>\u001b[0m f1_score \u001b[39m=\u001b[39m cross_val_score(model, X, y, cv\u001b[39m=\u001b[39mkfold, scoring\u001b[39m=\u001b[39m\u001b[39m'\u001b[39m\u001b[39mf1_weighted\u001b[39m\u001b[39m'\u001b[39m)\u001b[39m.\u001b[39mmean()\n\u001b[1;32m     <a href='vscode-notebook-cell:/home/ebryx/Documents/pcap_data_collections/server/anomaly-detection-all.ipynb#X35sZmlsZQ%3D%3D?line=79'>80</a>\u001b[0m delta \u001b[39m=\u001b[39m time\u001b[39m.\u001b[39mtime() \u001b[39m-\u001b[39m start_time\n",
      "File \u001b[0;32m/usr/local/lib/python3.8/dist-packages/sklearn/model_selection/_validation.py:515\u001b[0m, in \u001b[0;36mcross_val_score\u001b[0;34m(estimator, X, y, groups, scoring, cv, n_jobs, verbose, fit_params, pre_dispatch, error_score)\u001b[0m\n\u001b[1;32m    512\u001b[0m \u001b[39m# To ensure multimetric format is not supported\u001b[39;00m\n\u001b[1;32m    513\u001b[0m scorer \u001b[39m=\u001b[39m check_scoring(estimator, scoring\u001b[39m=\u001b[39mscoring)\n\u001b[0;32m--> 515\u001b[0m cv_results \u001b[39m=\u001b[39m cross_validate(\n\u001b[1;32m    516\u001b[0m     estimator\u001b[39m=\u001b[39;49mestimator,\n\u001b[1;32m    517\u001b[0m     X\u001b[39m=\u001b[39;49mX,\n\u001b[1;32m    518\u001b[0m     y\u001b[39m=\u001b[39;49my,\n\u001b[1;32m    519\u001b[0m     groups\u001b[39m=\u001b[39;49mgroups,\n\u001b[1;32m    520\u001b[0m     scoring\u001b[39m=\u001b[39;49m{\u001b[39m\"\u001b[39;49m\u001b[39mscore\u001b[39;49m\u001b[39m\"\u001b[39;49m: scorer},\n\u001b[1;32m    521\u001b[0m     cv\u001b[39m=\u001b[39;49mcv,\n\u001b[1;32m    522\u001b[0m     n_jobs\u001b[39m=\u001b[39;49mn_jobs,\n\u001b[1;32m    523\u001b[0m     verbose\u001b[39m=\u001b[39;49mverbose,\n\u001b[1;32m    524\u001b[0m     fit_params\u001b[39m=\u001b[39;49mfit_params,\n\u001b[1;32m    525\u001b[0m     pre_dispatch\u001b[39m=\u001b[39;49mpre_dispatch,\n\u001b[1;32m    526\u001b[0m     error_score\u001b[39m=\u001b[39;49merror_score,\n\u001b[1;32m    527\u001b[0m )\n\u001b[1;32m    528\u001b[0m \u001b[39mreturn\u001b[39;00m cv_results[\u001b[39m\"\u001b[39m\u001b[39mtest_score\u001b[39m\u001b[39m\"\u001b[39m]\n",
      "File \u001b[0;32m/usr/local/lib/python3.8/dist-packages/sklearn/model_selection/_validation.py:266\u001b[0m, in \u001b[0;36mcross_validate\u001b[0;34m(estimator, X, y, groups, scoring, cv, n_jobs, verbose, fit_params, pre_dispatch, return_train_score, return_estimator, error_score)\u001b[0m\n\u001b[1;32m    263\u001b[0m \u001b[39m# We clone the estimator to make sure that all the folds are\u001b[39;00m\n\u001b[1;32m    264\u001b[0m \u001b[39m# independent, and that it is pickle-able.\u001b[39;00m\n\u001b[1;32m    265\u001b[0m parallel \u001b[39m=\u001b[39m Parallel(n_jobs\u001b[39m=\u001b[39mn_jobs, verbose\u001b[39m=\u001b[39mverbose, pre_dispatch\u001b[39m=\u001b[39mpre_dispatch)\n\u001b[0;32m--> 266\u001b[0m results \u001b[39m=\u001b[39m parallel(\n\u001b[1;32m    267\u001b[0m     delayed(_fit_and_score)(\n\u001b[1;32m    268\u001b[0m         clone(estimator),\n\u001b[1;32m    269\u001b[0m         X,\n\u001b[1;32m    270\u001b[0m         y,\n\u001b[1;32m    271\u001b[0m         scorers,\n\u001b[1;32m    272\u001b[0m         train,\n\u001b[1;32m    273\u001b[0m         test,\n\u001b[1;32m    274\u001b[0m         verbose,\n\u001b[1;32m    275\u001b[0m         \u001b[39mNone\u001b[39;49;00m,\n\u001b[1;32m    276\u001b[0m         fit_params,\n\u001b[1;32m    277\u001b[0m         return_train_score\u001b[39m=\u001b[39;49mreturn_train_score,\n\u001b[1;32m    278\u001b[0m         return_times\u001b[39m=\u001b[39;49m\u001b[39mTrue\u001b[39;49;00m,\n\u001b[1;32m    279\u001b[0m         return_estimator\u001b[39m=\u001b[39;49mreturn_estimator,\n\u001b[1;32m    280\u001b[0m         error_score\u001b[39m=\u001b[39;49merror_score,\n\u001b[1;32m    281\u001b[0m     )\n\u001b[1;32m    282\u001b[0m     \u001b[39mfor\u001b[39;49;00m train, test \u001b[39min\u001b[39;49;00m cv\u001b[39m.\u001b[39;49msplit(X, y, groups)\n\u001b[1;32m    283\u001b[0m )\n\u001b[1;32m    285\u001b[0m _warn_or_raise_about_fit_failures(results, error_score)\n\u001b[1;32m    287\u001b[0m \u001b[39m# For callabe scoring, the return type is only know after calling. If the\u001b[39;00m\n\u001b[1;32m    288\u001b[0m \u001b[39m# return type is a dictionary, the error scores can now be inserted with\u001b[39;00m\n\u001b[1;32m    289\u001b[0m \u001b[39m# the correct key.\u001b[39;00m\n",
      "File \u001b[0;32m/usr/local/lib/python3.8/dist-packages/sklearn/utils/parallel.py:63\u001b[0m, in \u001b[0;36mParallel.__call__\u001b[0;34m(self, iterable)\u001b[0m\n\u001b[1;32m     58\u001b[0m config \u001b[39m=\u001b[39m get_config()\n\u001b[1;32m     59\u001b[0m iterable_with_config \u001b[39m=\u001b[39m (\n\u001b[1;32m     60\u001b[0m     (_with_config(delayed_func, config), args, kwargs)\n\u001b[1;32m     61\u001b[0m     \u001b[39mfor\u001b[39;00m delayed_func, args, kwargs \u001b[39min\u001b[39;00m iterable\n\u001b[1;32m     62\u001b[0m )\n\u001b[0;32m---> 63\u001b[0m \u001b[39mreturn\u001b[39;00m \u001b[39msuper\u001b[39;49m()\u001b[39m.\u001b[39;49m\u001b[39m__call__\u001b[39;49m(iterable_with_config)\n",
      "File \u001b[0;32m/usr/local/lib/python3.8/dist-packages/joblib/parallel.py:1088\u001b[0m, in \u001b[0;36mParallel.__call__\u001b[0;34m(self, iterable)\u001b[0m\n\u001b[1;32m   1085\u001b[0m \u001b[39mif\u001b[39;00m \u001b[39mself\u001b[39m\u001b[39m.\u001b[39mdispatch_one_batch(iterator):\n\u001b[1;32m   1086\u001b[0m     \u001b[39mself\u001b[39m\u001b[39m.\u001b[39m_iterating \u001b[39m=\u001b[39m \u001b[39mself\u001b[39m\u001b[39m.\u001b[39m_original_iterator \u001b[39mis\u001b[39;00m \u001b[39mnot\u001b[39;00m \u001b[39mNone\u001b[39;00m\n\u001b[0;32m-> 1088\u001b[0m \u001b[39mwhile\u001b[39;00m \u001b[39mself\u001b[39;49m\u001b[39m.\u001b[39;49mdispatch_one_batch(iterator):\n\u001b[1;32m   1089\u001b[0m     \u001b[39mpass\u001b[39;00m\n\u001b[1;32m   1091\u001b[0m \u001b[39mif\u001b[39;00m pre_dispatch \u001b[39m==\u001b[39m \u001b[39m\"\u001b[39m\u001b[39mall\u001b[39m\u001b[39m\"\u001b[39m \u001b[39mor\u001b[39;00m n_jobs \u001b[39m==\u001b[39m \u001b[39m1\u001b[39m:\n\u001b[1;32m   1092\u001b[0m     \u001b[39m# The iterable was consumed all at once by the above for loop.\u001b[39;00m\n\u001b[1;32m   1093\u001b[0m     \u001b[39m# No need to wait for async callbacks to trigger to\u001b[39;00m\n\u001b[1;32m   1094\u001b[0m     \u001b[39m# consumption.\u001b[39;00m\n",
      "File \u001b[0;32m/usr/local/lib/python3.8/dist-packages/joblib/parallel.py:901\u001b[0m, in \u001b[0;36mParallel.dispatch_one_batch\u001b[0;34m(self, iterator)\u001b[0m\n\u001b[1;32m    899\u001b[0m     \u001b[39mreturn\u001b[39;00m \u001b[39mFalse\u001b[39;00m\n\u001b[1;32m    900\u001b[0m \u001b[39melse\u001b[39;00m:\n\u001b[0;32m--> 901\u001b[0m     \u001b[39mself\u001b[39;49m\u001b[39m.\u001b[39;49m_dispatch(tasks)\n\u001b[1;32m    902\u001b[0m     \u001b[39mreturn\u001b[39;00m \u001b[39mTrue\u001b[39;00m\n",
      "File \u001b[0;32m/usr/local/lib/python3.8/dist-packages/joblib/parallel.py:819\u001b[0m, in \u001b[0;36mParallel._dispatch\u001b[0;34m(self, batch)\u001b[0m\n\u001b[1;32m    817\u001b[0m \u001b[39mwith\u001b[39;00m \u001b[39mself\u001b[39m\u001b[39m.\u001b[39m_lock:\n\u001b[1;32m    818\u001b[0m     job_idx \u001b[39m=\u001b[39m \u001b[39mlen\u001b[39m(\u001b[39mself\u001b[39m\u001b[39m.\u001b[39m_jobs)\n\u001b[0;32m--> 819\u001b[0m     job \u001b[39m=\u001b[39m \u001b[39mself\u001b[39;49m\u001b[39m.\u001b[39;49m_backend\u001b[39m.\u001b[39;49mapply_async(batch, callback\u001b[39m=\u001b[39;49mcb)\n\u001b[1;32m    820\u001b[0m     \u001b[39m# A job can complete so quickly than its callback is\u001b[39;00m\n\u001b[1;32m    821\u001b[0m     \u001b[39m# called before we get here, causing self._jobs to\u001b[39;00m\n\u001b[1;32m    822\u001b[0m     \u001b[39m# grow. To ensure correct results ordering, .insert is\u001b[39;00m\n\u001b[1;32m    823\u001b[0m     \u001b[39m# used (rather than .append) in the following line\u001b[39;00m\n\u001b[1;32m    824\u001b[0m     \u001b[39mself\u001b[39m\u001b[39m.\u001b[39m_jobs\u001b[39m.\u001b[39minsert(job_idx, job)\n",
      "File \u001b[0;32m/usr/local/lib/python3.8/dist-packages/joblib/_parallel_backends.py:208\u001b[0m, in \u001b[0;36mSequentialBackend.apply_async\u001b[0;34m(self, func, callback)\u001b[0m\n\u001b[1;32m    206\u001b[0m \u001b[39mdef\u001b[39;00m \u001b[39mapply_async\u001b[39m(\u001b[39mself\u001b[39m, func, callback\u001b[39m=\u001b[39m\u001b[39mNone\u001b[39;00m):\n\u001b[1;32m    207\u001b[0m     \u001b[39m\"\"\"Schedule a func to be run\"\"\"\u001b[39;00m\n\u001b[0;32m--> 208\u001b[0m     result \u001b[39m=\u001b[39m ImmediateResult(func)\n\u001b[1;32m    209\u001b[0m     \u001b[39mif\u001b[39;00m callback:\n\u001b[1;32m    210\u001b[0m         callback(result)\n",
      "File \u001b[0;32m/usr/local/lib/python3.8/dist-packages/joblib/_parallel_backends.py:597\u001b[0m, in \u001b[0;36mImmediateResult.__init__\u001b[0;34m(self, batch)\u001b[0m\n\u001b[1;32m    594\u001b[0m \u001b[39mdef\u001b[39;00m \u001b[39m__init__\u001b[39m(\u001b[39mself\u001b[39m, batch):\n\u001b[1;32m    595\u001b[0m     \u001b[39m# Don't delay the application, to avoid keeping the input\u001b[39;00m\n\u001b[1;32m    596\u001b[0m     \u001b[39m# arguments in memory\u001b[39;00m\n\u001b[0;32m--> 597\u001b[0m     \u001b[39mself\u001b[39m\u001b[39m.\u001b[39mresults \u001b[39m=\u001b[39m batch()\n",
      "File \u001b[0;32m/usr/local/lib/python3.8/dist-packages/joblib/parallel.py:288\u001b[0m, in \u001b[0;36mBatchedCalls.__call__\u001b[0;34m(self)\u001b[0m\n\u001b[1;32m    284\u001b[0m \u001b[39mdef\u001b[39;00m \u001b[39m__call__\u001b[39m(\u001b[39mself\u001b[39m):\n\u001b[1;32m    285\u001b[0m     \u001b[39m# Set the default nested backend to self._backend but do not set the\u001b[39;00m\n\u001b[1;32m    286\u001b[0m     \u001b[39m# change the default number of processes to -1\u001b[39;00m\n\u001b[1;32m    287\u001b[0m     \u001b[39mwith\u001b[39;00m parallel_backend(\u001b[39mself\u001b[39m\u001b[39m.\u001b[39m_backend, n_jobs\u001b[39m=\u001b[39m\u001b[39mself\u001b[39m\u001b[39m.\u001b[39m_n_jobs):\n\u001b[0;32m--> 288\u001b[0m         \u001b[39mreturn\u001b[39;00m [func(\u001b[39m*\u001b[39margs, \u001b[39m*\u001b[39m\u001b[39m*\u001b[39mkwargs)\n\u001b[1;32m    289\u001b[0m                 \u001b[39mfor\u001b[39;00m func, args, kwargs \u001b[39min\u001b[39;00m \u001b[39mself\u001b[39m\u001b[39m.\u001b[39mitems]\n",
      "File \u001b[0;32m/usr/local/lib/python3.8/dist-packages/joblib/parallel.py:288\u001b[0m, in \u001b[0;36m<listcomp>\u001b[0;34m(.0)\u001b[0m\n\u001b[1;32m    284\u001b[0m \u001b[39mdef\u001b[39;00m \u001b[39m__call__\u001b[39m(\u001b[39mself\u001b[39m):\n\u001b[1;32m    285\u001b[0m     \u001b[39m# Set the default nested backend to self._backend but do not set the\u001b[39;00m\n\u001b[1;32m    286\u001b[0m     \u001b[39m# change the default number of processes to -1\u001b[39;00m\n\u001b[1;32m    287\u001b[0m     \u001b[39mwith\u001b[39;00m parallel_backend(\u001b[39mself\u001b[39m\u001b[39m.\u001b[39m_backend, n_jobs\u001b[39m=\u001b[39m\u001b[39mself\u001b[39m\u001b[39m.\u001b[39m_n_jobs):\n\u001b[0;32m--> 288\u001b[0m         \u001b[39mreturn\u001b[39;00m [func(\u001b[39m*\u001b[39;49margs, \u001b[39m*\u001b[39;49m\u001b[39m*\u001b[39;49mkwargs)\n\u001b[1;32m    289\u001b[0m                 \u001b[39mfor\u001b[39;00m func, args, kwargs \u001b[39min\u001b[39;00m \u001b[39mself\u001b[39m\u001b[39m.\u001b[39mitems]\n",
      "File \u001b[0;32m/usr/local/lib/python3.8/dist-packages/sklearn/utils/parallel.py:123\u001b[0m, in \u001b[0;36m_FuncWrapper.__call__\u001b[0;34m(self, *args, **kwargs)\u001b[0m\n\u001b[1;32m    121\u001b[0m     config \u001b[39m=\u001b[39m {}\n\u001b[1;32m    122\u001b[0m \u001b[39mwith\u001b[39;00m config_context(\u001b[39m*\u001b[39m\u001b[39m*\u001b[39mconfig):\n\u001b[0;32m--> 123\u001b[0m     \u001b[39mreturn\u001b[39;00m \u001b[39mself\u001b[39;49m\u001b[39m.\u001b[39;49mfunction(\u001b[39m*\u001b[39;49margs, \u001b[39m*\u001b[39;49m\u001b[39m*\u001b[39;49mkwargs)\n",
      "File \u001b[0;32m/usr/local/lib/python3.8/dist-packages/sklearn/model_selection/_validation.py:708\u001b[0m, in \u001b[0;36m_fit_and_score\u001b[0;34m(estimator, X, y, scorer, train, test, verbose, parameters, fit_params, return_train_score, return_parameters, return_n_test_samples, return_times, return_estimator, split_progress, candidate_progress, error_score)\u001b[0m\n\u001b[1;32m    705\u001b[0m result[\u001b[39m\"\u001b[39m\u001b[39mfit_error\u001b[39m\u001b[39m\"\u001b[39m] \u001b[39m=\u001b[39m \u001b[39mNone\u001b[39;00m\n\u001b[1;32m    707\u001b[0m fit_time \u001b[39m=\u001b[39m time\u001b[39m.\u001b[39mtime() \u001b[39m-\u001b[39m start_time\n\u001b[0;32m--> 708\u001b[0m test_scores \u001b[39m=\u001b[39m _score(estimator, X_test, y_test, scorer, error_score)\n\u001b[1;32m    709\u001b[0m score_time \u001b[39m=\u001b[39m time\u001b[39m.\u001b[39mtime() \u001b[39m-\u001b[39m start_time \u001b[39m-\u001b[39m fit_time\n\u001b[1;32m    710\u001b[0m \u001b[39mif\u001b[39;00m return_train_score:\n",
      "File \u001b[0;32m/usr/local/lib/python3.8/dist-packages/sklearn/model_selection/_validation.py:767\u001b[0m, in \u001b[0;36m_score\u001b[0;34m(estimator, X_test, y_test, scorer, error_score)\u001b[0m\n\u001b[1;32m    765\u001b[0m         scores \u001b[39m=\u001b[39m scorer(estimator, X_test)\n\u001b[1;32m    766\u001b[0m     \u001b[39melse\u001b[39;00m:\n\u001b[0;32m--> 767\u001b[0m         scores \u001b[39m=\u001b[39m scorer(estimator, X_test, y_test)\n\u001b[1;32m    768\u001b[0m \u001b[39mexcept\u001b[39;00m \u001b[39mException\u001b[39;00m:\n\u001b[1;32m    769\u001b[0m     \u001b[39mif\u001b[39;00m \u001b[39misinstance\u001b[39m(scorer, _MultimetricScorer):\n\u001b[1;32m    770\u001b[0m         \u001b[39m# If `_MultimetricScorer` raises exception, the `error_score`\u001b[39;00m\n\u001b[1;32m    771\u001b[0m         \u001b[39m# parameter is equal to \"raise\".\u001b[39;00m\n",
      "File \u001b[0;32m/usr/local/lib/python3.8/dist-packages/sklearn/metrics/_scorer.py:115\u001b[0m, in \u001b[0;36m_MultimetricScorer.__call__\u001b[0;34m(self, estimator, *args, **kwargs)\u001b[0m\n\u001b[1;32m    113\u001b[0m \u001b[39mtry\u001b[39;00m:\n\u001b[1;32m    114\u001b[0m     \u001b[39mif\u001b[39;00m \u001b[39misinstance\u001b[39m(scorer, _BaseScorer):\n\u001b[0;32m--> 115\u001b[0m         score \u001b[39m=\u001b[39m scorer\u001b[39m.\u001b[39;49m_score(cached_call, estimator, \u001b[39m*\u001b[39;49margs, \u001b[39m*\u001b[39;49m\u001b[39m*\u001b[39;49mkwargs)\n\u001b[1;32m    116\u001b[0m     \u001b[39melse\u001b[39;00m:\n\u001b[1;32m    117\u001b[0m         score \u001b[39m=\u001b[39m scorer(estimator, \u001b[39m*\u001b[39margs, \u001b[39m*\u001b[39m\u001b[39m*\u001b[39mkwargs)\n",
      "File \u001b[0;32m/usr/local/lib/python3.8/dist-packages/sklearn/metrics/_scorer.py:276\u001b[0m, in \u001b[0;36m_PredictScorer._score\u001b[0;34m(self, method_caller, estimator, X, y_true, sample_weight)\u001b[0m\n\u001b[1;32m    248\u001b[0m \u001b[39mdef\u001b[39;00m \u001b[39m_score\u001b[39m(\u001b[39mself\u001b[39m, method_caller, estimator, X, y_true, sample_weight\u001b[39m=\u001b[39m\u001b[39mNone\u001b[39;00m):\n\u001b[1;32m    249\u001b[0m     \u001b[39m\"\"\"Evaluate predicted target values for X relative to y_true.\u001b[39;00m\n\u001b[1;32m    250\u001b[0m \n\u001b[1;32m    251\u001b[0m \u001b[39m    Parameters\u001b[39;00m\n\u001b[0;32m   (...)\u001b[0m\n\u001b[1;32m    273\u001b[0m \u001b[39m        Score function applied to prediction of estimator on X.\u001b[39;00m\n\u001b[1;32m    274\u001b[0m \u001b[39m    \"\"\"\u001b[39;00m\n\u001b[0;32m--> 276\u001b[0m     y_pred \u001b[39m=\u001b[39m method_caller(estimator, \u001b[39m\"\u001b[39;49m\u001b[39mpredict\u001b[39;49m\u001b[39m\"\u001b[39;49m, X)\n\u001b[1;32m    277\u001b[0m     \u001b[39mif\u001b[39;00m sample_weight \u001b[39mis\u001b[39;00m \u001b[39mnot\u001b[39;00m \u001b[39mNone\u001b[39;00m:\n\u001b[1;32m    278\u001b[0m         \u001b[39mreturn\u001b[39;00m \u001b[39mself\u001b[39m\u001b[39m.\u001b[39m_sign \u001b[39m*\u001b[39m \u001b[39mself\u001b[39m\u001b[39m.\u001b[39m_score_func(\n\u001b[1;32m    279\u001b[0m             y_true, y_pred, sample_weight\u001b[39m=\u001b[39msample_weight, \u001b[39m*\u001b[39m\u001b[39m*\u001b[39m\u001b[39mself\u001b[39m\u001b[39m.\u001b[39m_kwargs\n\u001b[1;32m    280\u001b[0m         )\n",
      "File \u001b[0;32m/usr/local/lib/python3.8/dist-packages/sklearn/metrics/_scorer.py:73\u001b[0m, in \u001b[0;36m_cached_call\u001b[0;34m(cache, estimator, method, *args, **kwargs)\u001b[0m\n\u001b[1;32m     71\u001b[0m \u001b[39m\"\"\"Call estimator with method and args and kwargs.\"\"\"\u001b[39;00m\n\u001b[1;32m     72\u001b[0m \u001b[39mif\u001b[39;00m cache \u001b[39mis\u001b[39;00m \u001b[39mNone\u001b[39;00m:\n\u001b[0;32m---> 73\u001b[0m     \u001b[39mreturn\u001b[39;00m \u001b[39mgetattr\u001b[39;49m(estimator, method)(\u001b[39m*\u001b[39;49margs, \u001b[39m*\u001b[39;49m\u001b[39m*\u001b[39;49mkwargs)\n\u001b[1;32m     75\u001b[0m \u001b[39mtry\u001b[39;00m:\n\u001b[1;32m     76\u001b[0m     \u001b[39mreturn\u001b[39;00m cache[method]\n",
      "File \u001b[0;32m/usr/local/lib/python3.8/dist-packages/sklearn/neighbors/_classification.py:234\u001b[0m, in \u001b[0;36mKNeighborsClassifier.predict\u001b[0;34m(self, X)\u001b[0m\n\u001b[1;32m    218\u001b[0m \u001b[39m\"\"\"Predict the class labels for the provided data.\u001b[39;00m\n\u001b[1;32m    219\u001b[0m \n\u001b[1;32m    220\u001b[0m \u001b[39mParameters\u001b[39;00m\n\u001b[0;32m   (...)\u001b[0m\n\u001b[1;32m    229\u001b[0m \u001b[39m    Class labels for each data sample.\u001b[39;00m\n\u001b[1;32m    230\u001b[0m \u001b[39m\"\"\"\u001b[39;00m\n\u001b[1;32m    231\u001b[0m \u001b[39mif\u001b[39;00m \u001b[39mself\u001b[39m\u001b[39m.\u001b[39mweights \u001b[39m==\u001b[39m \u001b[39m\"\u001b[39m\u001b[39muniform\u001b[39m\u001b[39m\"\u001b[39m:\n\u001b[1;32m    232\u001b[0m     \u001b[39m# In that case, we do not need the distances to perform\u001b[39;00m\n\u001b[1;32m    233\u001b[0m     \u001b[39m# the weighting so we do not compute them.\u001b[39;00m\n\u001b[0;32m--> 234\u001b[0m     neigh_ind \u001b[39m=\u001b[39m \u001b[39mself\u001b[39;49m\u001b[39m.\u001b[39;49mkneighbors(X, return_distance\u001b[39m=\u001b[39;49m\u001b[39mFalse\u001b[39;49;00m)\n\u001b[1;32m    235\u001b[0m     neigh_dist \u001b[39m=\u001b[39m \u001b[39mNone\u001b[39;00m\n\u001b[1;32m    236\u001b[0m \u001b[39melse\u001b[39;00m:\n",
      "File \u001b[0;32m/usr/local/lib/python3.8/dist-packages/sklearn/neighbors/_base.py:879\u001b[0m, in \u001b[0;36mKNeighborsMixin.kneighbors\u001b[0;34m(self, X, n_neighbors, return_distance)\u001b[0m\n\u001b[1;32m    873\u001b[0m     \u001b[39mif\u001b[39;00m issparse(X):\n\u001b[1;32m    874\u001b[0m         \u001b[39mraise\u001b[39;00m \u001b[39mValueError\u001b[39;00m(\n\u001b[1;32m    875\u001b[0m             \u001b[39m\"\u001b[39m\u001b[39m%s\u001b[39;00m\u001b[39m does not work with sparse matrices. Densify the data, \u001b[39m\u001b[39m\"\u001b[39m\n\u001b[1;32m    876\u001b[0m             \u001b[39m\"\u001b[39m\u001b[39mor set algorithm=\u001b[39m\u001b[39m'\u001b[39m\u001b[39mbrute\u001b[39m\u001b[39m'\u001b[39m\u001b[39m\"\u001b[39m\n\u001b[1;32m    877\u001b[0m             \u001b[39m%\u001b[39m \u001b[39mself\u001b[39m\u001b[39m.\u001b[39m_fit_method\n\u001b[1;32m    878\u001b[0m         )\n\u001b[0;32m--> 879\u001b[0m     chunked_results \u001b[39m=\u001b[39m Parallel(n_jobs, prefer\u001b[39m=\u001b[39;49m\u001b[39m\"\u001b[39;49m\u001b[39mthreads\u001b[39;49m\u001b[39m\"\u001b[39;49m)(\n\u001b[1;32m    880\u001b[0m         delayed(_tree_query_parallel_helper)(\n\u001b[1;32m    881\u001b[0m             \u001b[39mself\u001b[39;49m\u001b[39m.\u001b[39;49m_tree, X[s], n_neighbors, return_distance\n\u001b[1;32m    882\u001b[0m         )\n\u001b[1;32m    883\u001b[0m         \u001b[39mfor\u001b[39;49;00m s \u001b[39min\u001b[39;49;00m gen_even_slices(X\u001b[39m.\u001b[39;49mshape[\u001b[39m0\u001b[39;49m], n_jobs)\n\u001b[1;32m    884\u001b[0m     )\n\u001b[1;32m    885\u001b[0m \u001b[39melse\u001b[39;00m:\n\u001b[1;32m    886\u001b[0m     \u001b[39mraise\u001b[39;00m \u001b[39mValueError\u001b[39;00m(\u001b[39m\"\u001b[39m\u001b[39minternal: _fit_method not recognized\u001b[39m\u001b[39m\"\u001b[39m)\n",
      "File \u001b[0;32m/usr/local/lib/python3.8/dist-packages/sklearn/utils/parallel.py:63\u001b[0m, in \u001b[0;36mParallel.__call__\u001b[0;34m(self, iterable)\u001b[0m\n\u001b[1;32m     58\u001b[0m config \u001b[39m=\u001b[39m get_config()\n\u001b[1;32m     59\u001b[0m iterable_with_config \u001b[39m=\u001b[39m (\n\u001b[1;32m     60\u001b[0m     (_with_config(delayed_func, config), args, kwargs)\n\u001b[1;32m     61\u001b[0m     \u001b[39mfor\u001b[39;00m delayed_func, args, kwargs \u001b[39min\u001b[39;00m iterable\n\u001b[1;32m     62\u001b[0m )\n\u001b[0;32m---> 63\u001b[0m \u001b[39mreturn\u001b[39;00m \u001b[39msuper\u001b[39;49m()\u001b[39m.\u001b[39;49m\u001b[39m__call__\u001b[39;49m(iterable_with_config)\n",
      "File \u001b[0;32m/usr/local/lib/python3.8/dist-packages/joblib/parallel.py:1085\u001b[0m, in \u001b[0;36mParallel.__call__\u001b[0;34m(self, iterable)\u001b[0m\n\u001b[1;32m   1076\u001b[0m \u001b[39mtry\u001b[39;00m:\n\u001b[1;32m   1077\u001b[0m     \u001b[39m# Only set self._iterating to True if at least a batch\u001b[39;00m\n\u001b[1;32m   1078\u001b[0m     \u001b[39m# was dispatched. In particular this covers the edge\u001b[39;00m\n\u001b[0;32m   (...)\u001b[0m\n\u001b[1;32m   1082\u001b[0m     \u001b[39m# was very quick and its callback already dispatched all the\u001b[39;00m\n\u001b[1;32m   1083\u001b[0m     \u001b[39m# remaining jobs.\u001b[39;00m\n\u001b[1;32m   1084\u001b[0m     \u001b[39mself\u001b[39m\u001b[39m.\u001b[39m_iterating \u001b[39m=\u001b[39m \u001b[39mFalse\u001b[39;00m\n\u001b[0;32m-> 1085\u001b[0m     \u001b[39mif\u001b[39;00m \u001b[39mself\u001b[39;49m\u001b[39m.\u001b[39;49mdispatch_one_batch(iterator):\n\u001b[1;32m   1086\u001b[0m         \u001b[39mself\u001b[39m\u001b[39m.\u001b[39m_iterating \u001b[39m=\u001b[39m \u001b[39mself\u001b[39m\u001b[39m.\u001b[39m_original_iterator \u001b[39mis\u001b[39;00m \u001b[39mnot\u001b[39;00m \u001b[39mNone\u001b[39;00m\n\u001b[1;32m   1088\u001b[0m     \u001b[39mwhile\u001b[39;00m \u001b[39mself\u001b[39m\u001b[39m.\u001b[39mdispatch_one_batch(iterator):\n",
      "File \u001b[0;32m/usr/local/lib/python3.8/dist-packages/joblib/parallel.py:901\u001b[0m, in \u001b[0;36mParallel.dispatch_one_batch\u001b[0;34m(self, iterator)\u001b[0m\n\u001b[1;32m    899\u001b[0m     \u001b[39mreturn\u001b[39;00m \u001b[39mFalse\u001b[39;00m\n\u001b[1;32m    900\u001b[0m \u001b[39melse\u001b[39;00m:\n\u001b[0;32m--> 901\u001b[0m     \u001b[39mself\u001b[39;49m\u001b[39m.\u001b[39;49m_dispatch(tasks)\n\u001b[1;32m    902\u001b[0m     \u001b[39mreturn\u001b[39;00m \u001b[39mTrue\u001b[39;00m\n",
      "File \u001b[0;32m/usr/local/lib/python3.8/dist-packages/joblib/parallel.py:819\u001b[0m, in \u001b[0;36mParallel._dispatch\u001b[0;34m(self, batch)\u001b[0m\n\u001b[1;32m    817\u001b[0m \u001b[39mwith\u001b[39;00m \u001b[39mself\u001b[39m\u001b[39m.\u001b[39m_lock:\n\u001b[1;32m    818\u001b[0m     job_idx \u001b[39m=\u001b[39m \u001b[39mlen\u001b[39m(\u001b[39mself\u001b[39m\u001b[39m.\u001b[39m_jobs)\n\u001b[0;32m--> 819\u001b[0m     job \u001b[39m=\u001b[39m \u001b[39mself\u001b[39;49m\u001b[39m.\u001b[39;49m_backend\u001b[39m.\u001b[39;49mapply_async(batch, callback\u001b[39m=\u001b[39;49mcb)\n\u001b[1;32m    820\u001b[0m     \u001b[39m# A job can complete so quickly than its callback is\u001b[39;00m\n\u001b[1;32m    821\u001b[0m     \u001b[39m# called before we get here, causing self._jobs to\u001b[39;00m\n\u001b[1;32m    822\u001b[0m     \u001b[39m# grow. To ensure correct results ordering, .insert is\u001b[39;00m\n\u001b[1;32m    823\u001b[0m     \u001b[39m# used (rather than .append) in the following line\u001b[39;00m\n\u001b[1;32m    824\u001b[0m     \u001b[39mself\u001b[39m\u001b[39m.\u001b[39m_jobs\u001b[39m.\u001b[39minsert(job_idx, job)\n",
      "File \u001b[0;32m/usr/local/lib/python3.8/dist-packages/joblib/_parallel_backends.py:208\u001b[0m, in \u001b[0;36mSequentialBackend.apply_async\u001b[0;34m(self, func, callback)\u001b[0m\n\u001b[1;32m    206\u001b[0m \u001b[39mdef\u001b[39;00m \u001b[39mapply_async\u001b[39m(\u001b[39mself\u001b[39m, func, callback\u001b[39m=\u001b[39m\u001b[39mNone\u001b[39;00m):\n\u001b[1;32m    207\u001b[0m     \u001b[39m\"\"\"Schedule a func to be run\"\"\"\u001b[39;00m\n\u001b[0;32m--> 208\u001b[0m     result \u001b[39m=\u001b[39m ImmediateResult(func)\n\u001b[1;32m    209\u001b[0m     \u001b[39mif\u001b[39;00m callback:\n\u001b[1;32m    210\u001b[0m         callback(result)\n",
      "File \u001b[0;32m/usr/local/lib/python3.8/dist-packages/joblib/_parallel_backends.py:597\u001b[0m, in \u001b[0;36mImmediateResult.__init__\u001b[0;34m(self, batch)\u001b[0m\n\u001b[1;32m    594\u001b[0m \u001b[39mdef\u001b[39;00m \u001b[39m__init__\u001b[39m(\u001b[39mself\u001b[39m, batch):\n\u001b[1;32m    595\u001b[0m     \u001b[39m# Don't delay the application, to avoid keeping the input\u001b[39;00m\n\u001b[1;32m    596\u001b[0m     \u001b[39m# arguments in memory\u001b[39;00m\n\u001b[0;32m--> 597\u001b[0m     \u001b[39mself\u001b[39m\u001b[39m.\u001b[39mresults \u001b[39m=\u001b[39m batch()\n",
      "File \u001b[0;32m/usr/local/lib/python3.8/dist-packages/joblib/parallel.py:288\u001b[0m, in \u001b[0;36mBatchedCalls.__call__\u001b[0;34m(self)\u001b[0m\n\u001b[1;32m    284\u001b[0m \u001b[39mdef\u001b[39;00m \u001b[39m__call__\u001b[39m(\u001b[39mself\u001b[39m):\n\u001b[1;32m    285\u001b[0m     \u001b[39m# Set the default nested backend to self._backend but do not set the\u001b[39;00m\n\u001b[1;32m    286\u001b[0m     \u001b[39m# change the default number of processes to -1\u001b[39;00m\n\u001b[1;32m    287\u001b[0m     \u001b[39mwith\u001b[39;00m parallel_backend(\u001b[39mself\u001b[39m\u001b[39m.\u001b[39m_backend, n_jobs\u001b[39m=\u001b[39m\u001b[39mself\u001b[39m\u001b[39m.\u001b[39m_n_jobs):\n\u001b[0;32m--> 288\u001b[0m         \u001b[39mreturn\u001b[39;00m [func(\u001b[39m*\u001b[39margs, \u001b[39m*\u001b[39m\u001b[39m*\u001b[39mkwargs)\n\u001b[1;32m    289\u001b[0m                 \u001b[39mfor\u001b[39;00m func, args, kwargs \u001b[39min\u001b[39;00m \u001b[39mself\u001b[39m\u001b[39m.\u001b[39mitems]\n",
      "File \u001b[0;32m/usr/local/lib/python3.8/dist-packages/joblib/parallel.py:288\u001b[0m, in \u001b[0;36m<listcomp>\u001b[0;34m(.0)\u001b[0m\n\u001b[1;32m    284\u001b[0m \u001b[39mdef\u001b[39;00m \u001b[39m__call__\u001b[39m(\u001b[39mself\u001b[39m):\n\u001b[1;32m    285\u001b[0m     \u001b[39m# Set the default nested backend to self._backend but do not set the\u001b[39;00m\n\u001b[1;32m    286\u001b[0m     \u001b[39m# change the default number of processes to -1\u001b[39;00m\n\u001b[1;32m    287\u001b[0m     \u001b[39mwith\u001b[39;00m parallel_backend(\u001b[39mself\u001b[39m\u001b[39m.\u001b[39m_backend, n_jobs\u001b[39m=\u001b[39m\u001b[39mself\u001b[39m\u001b[39m.\u001b[39m_n_jobs):\n\u001b[0;32m--> 288\u001b[0m         \u001b[39mreturn\u001b[39;00m [func(\u001b[39m*\u001b[39;49margs, \u001b[39m*\u001b[39;49m\u001b[39m*\u001b[39;49mkwargs)\n\u001b[1;32m    289\u001b[0m                 \u001b[39mfor\u001b[39;00m func, args, kwargs \u001b[39min\u001b[39;00m \u001b[39mself\u001b[39m\u001b[39m.\u001b[39mitems]\n",
      "File \u001b[0;32m/usr/local/lib/python3.8/dist-packages/sklearn/utils/parallel.py:123\u001b[0m, in \u001b[0;36m_FuncWrapper.__call__\u001b[0;34m(self, *args, **kwargs)\u001b[0m\n\u001b[1;32m    121\u001b[0m     config \u001b[39m=\u001b[39m {}\n\u001b[1;32m    122\u001b[0m \u001b[39mwith\u001b[39;00m config_context(\u001b[39m*\u001b[39m\u001b[39m*\u001b[39mconfig):\n\u001b[0;32m--> 123\u001b[0m     \u001b[39mreturn\u001b[39;00m \u001b[39mself\u001b[39;49m\u001b[39m.\u001b[39;49mfunction(\u001b[39m*\u001b[39;49margs, \u001b[39m*\u001b[39;49m\u001b[39m*\u001b[39;49mkwargs)\n",
      "File \u001b[0;32m/usr/local/lib/python3.8/dist-packages/sklearn/neighbors/_base.py:685\u001b[0m, in \u001b[0;36m_tree_query_parallel_helper\u001b[0;34m(tree, *args, **kwargs)\u001b[0m\n\u001b[1;32m    679\u001b[0m \u001b[39mdef\u001b[39;00m \u001b[39m_tree_query_parallel_helper\u001b[39m(tree, \u001b[39m*\u001b[39margs, \u001b[39m*\u001b[39m\u001b[39m*\u001b[39mkwargs):\n\u001b[1;32m    680\u001b[0m     \u001b[39m\"\"\"Helper for the Parallel calls in KNeighborsMixin.kneighbors.\u001b[39;00m\n\u001b[1;32m    681\u001b[0m \n\u001b[1;32m    682\u001b[0m \u001b[39m    The Cython method tree.query is not directly picklable by cloudpickle\u001b[39;00m\n\u001b[1;32m    683\u001b[0m \u001b[39m    under PyPy.\u001b[39;00m\n\u001b[1;32m    684\u001b[0m \u001b[39m    \"\"\"\u001b[39;00m\n\u001b[0;32m--> 685\u001b[0m     \u001b[39mreturn\u001b[39;00m tree\u001b[39m.\u001b[39;49mquery(\u001b[39m*\u001b[39;49margs, \u001b[39m*\u001b[39;49m\u001b[39m*\u001b[39;49mkwargs)\n",
      "\u001b[0;31mKeyboardInterrupt\u001b[0m: "
     ]
    }
   ],
   "source": [
    "import time\n",
    "import warnings\n",
    "warnings.filterwarnings(\"ignore\")\n",
    "\n",
    "from sklearn import model_selection\n",
    "from sklearn.model_selection import cross_val_score\n",
    "from sklearn.neighbors import KNeighborsClassifier\n",
    "from sklearn.svm import SVC\n",
    "from sklearn.tree import DecisionTreeClassifier\n",
    "from sklearn.ensemble import RandomForestClassifier\n",
    "from sklearn.ensemble import AdaBoostClassifier\n",
    "from sklearn.linear_model import LogisticRegression\n",
    "from sklearn.naive_bayes import GaussianNB\n",
    "from sklearn.discriminant_analysis import LinearDiscriminantAnalysis\n",
    "from sklearn.discriminant_analysis import QuadraticDiscriminantAnalysis\n",
    "from sklearn.neural_network import MLPClassifier\n",
    "\n",
    "\n",
    "df8=pd.read_csv(\"./data/Wednesday-workingHours.pcap_ISCX.csv\")\n",
    "# print(df8[' Label'].value_counts())\n",
    "# BENIGN              440031\n",
    "# DoS Hulk            231073\n",
    "# DoS GoldenEye        10293\n",
    "# DoS slowloris         5796\n",
    "# DoS Slowhttptest      5499\n",
    "# Heartbleed              11\n",
    "# Name:  Label, dtype: int64\n",
    "\n",
    "\n",
    "\n",
    "df8[\" Label\"] = df8[\" Label\"].replace([\"DoS Hulk\",\"DoS GoldenEye\",\"DoS slowloris\",\"DoS Slowhttptest\"],\"DoS\")\n",
    "# remove Heartbleed attacks\n",
    "df8.drop(df8.loc[df8[' Label']== \"Heartbleed\"].index, inplace=True)\n",
    "\n",
    "df8[' Label'] = df8[' Label'].replace(['BENIGN'], 0)\n",
    "df8[' Label'] = df8[' Label'].replace(['DoS'], 1)\n",
    "\n",
    "df = preprosess(df8)\n",
    "\n",
    "features=[\" Fwd Packet Length Max\",\" Flow IAT Std\",\" Fwd Packet Length Std\" ,\"Fwd IAT Total\",' Flow Duration', \" Fwd Packet Length Mean\", \" Total Length of Bwd Packets\", \"Total Length of Fwd Packets\", \" Flow IAT Mean\", \" Bwd Packet Length Mean\",  \" Flow IAT Max\", \" Bwd Packet Length Std\", ' Total Fwd Packets', ' Total Backward Packets',' Label']\n",
    "\n",
    "# print(df6.columns)\n",
    "df = df[features].copy()\n",
    "\n",
    "# print(df3[\" Label\"].unique())\n",
    "print(df[' Label'].value_counts())\n",
    "print(df.info())\n",
    "\n",
    "X = df.drop([' Label'], axis=1)\n",
    "y = df[' Label']\n",
    "# X = df[df.columns[0:-1]]\n",
    "# y = df[df.columns[-1]]\n",
    "\n",
    "X_train, X_test, y_train, y_test=train_test_split(X,y,test_size=0.2, random_state=10)\n",
    "\n",
    "\n",
    "models = []\n",
    "models.append(('KNN', KNeighborsClassifier()))\n",
    "# models.append(('SVM', SVC(gamma='auto')))\n",
    "# models.append(('CART', DecisionTreeClassifier(max_depth=5)))\n",
    "# models.append(('RF', RandomForestClassifier(max_depth=5, n_estimators=5, max_features=3)))    \n",
    "models.append(('ABoost', AdaBoostClassifier()))\n",
    "models.append(('LR', LogisticRegression(solver='lbfgs', max_iter=200)))\n",
    "models.append(('NB', GaussianNB()))\n",
    "models.append(('LDA', LinearDiscriminantAnalysis()))\n",
    "models.append(('QDA', QuadraticDiscriminantAnalysis()))\n",
    "models.append(('MLP', MLPClassifier()))\n",
    "\n",
    "print('Model\\tAcc\\tPr\\tRecall\\tF1\\tExecution')\n",
    "      \n",
    "for name, model in models:\n",
    "    start_time = time.time()\n",
    "    kfold = model_selection.KFold(n_splits=5, random_state=24, shuffle=True)    \n",
    "\n",
    "    accuracy = cross_val_score(model, X_train, y_train, cv=kfold, scoring='accuracy').mean()\n",
    "    precision = cross_val_score(model, X_train, y_train, cv=kfold, scoring='precision').mean()\n",
    "    recall = cross_val_score(model, X_train, y_train, cv=kfold, scoring='recall').mean()\n",
    "    f1_score = cross_val_score(model, X, y, cv=kfold, scoring='f1_weighted').mean()\n",
    "    \n",
    "    delta = time.time() - start_time\n",
    "    print('{}\\t{:.3f}\\t{:.3f}\\t{:.3f}\\t{:.3f}\\t{:.2f} secs'.format(name, accuracy, precision, recall, f1_score, delta))"
   ]
  },
  {
   "cell_type": "code",
   "execution_count": 29,
   "metadata": {},
   "outputs": [],
   "source": [
    "# !pip install tensorflow"
   ]
  },
  {
   "cell_type": "code",
   "execution_count": 27,
   "metadata": {},
   "outputs": [
    {
     "name": "stderr",
     "output_type": "stream",
     "text": [
      "2023-03-02 16:31:24.433750: I tensorflow/core/platform/cpu_feature_guard.cc:193] This TensorFlow binary is optimized with oneAPI Deep Neural Network Library (oneDNN) to use the following CPU instructions in performance-critical operations:  AVX2 AVX512F AVX512_VNNI FMA\n",
      "To enable them in other operations, rebuild TensorFlow with the appropriate compiler flags.\n",
      "2023-03-02 16:31:24.876908: I tensorflow/core/util/port.cc:104] oneDNN custom operations are on. You may see slightly different numerical results due to floating-point round-off errors from different computation orders. To turn them off, set the environment variable `TF_ENABLE_ONEDNN_OPTS=0`.\n",
      "2023-03-02 16:31:24.935812: W tensorflow/compiler/xla/stream_executor/platform/default/dso_loader.cc:64] Could not load dynamic library 'libcudart.so.11.0'; dlerror: libcudart.so.11.0: cannot open shared object file: No such file or directory\n",
      "2023-03-02 16:31:24.935834: I tensorflow/compiler/xla/stream_executor/cuda/cudart_stub.cc:29] Ignore above cudart dlerror if you do not have a GPU set up on your machine.\n",
      "2023-03-02 16:31:28.174154: W tensorflow/compiler/xla/stream_executor/platform/default/dso_loader.cc:64] Could not load dynamic library 'libnvinfer.so.7'; dlerror: libnvinfer.so.7: cannot open shared object file: No such file or directory\n",
      "2023-03-02 16:31:28.174355: W tensorflow/compiler/xla/stream_executor/platform/default/dso_loader.cc:64] Could not load dynamic library 'libnvinfer_plugin.so.7'; dlerror: libnvinfer_plugin.so.7: cannot open shared object file: No such file or directory\n",
      "2023-03-02 16:31:28.174362: W tensorflow/compiler/tf2tensorrt/utils/py_utils.cc:38] TF-TRT Warning: Cannot dlopen some TensorRT libraries. If you would like to use Nvidia GPU with TensorRT, please make sure the missing libraries mentioned above are installed properly.\n",
      "2023-03-02 16:31:31.330799: W tensorflow/compiler/xla/stream_executor/platform/default/dso_loader.cc:64] Could not load dynamic library 'libcuda.so.1'; dlerror: libcuda.so.1: cannot open shared object file: No such file or directory\n",
      "2023-03-02 16:31:31.331073: W tensorflow/compiler/xla/stream_executor/cuda/cuda_driver.cc:265] failed call to cuInit: UNKNOWN ERROR (303)\n",
      "2023-03-02 16:31:31.331153: I tensorflow/compiler/xla/stream_executor/cuda/cuda_diagnostics.cc:156] kernel driver does not appear to be running on this host (lap-0243): /proc/driver/nvidia/version does not exist\n",
      "2023-03-02 16:31:31.332262: I tensorflow/core/platform/cpu_feature_guard.cc:193] This TensorFlow binary is optimized with oneAPI Deep Neural Network Library (oneDNN) to use the following CPU instructions in performance-critical operations:  AVX2 AVX512F AVX512_VNNI FMA\n",
      "To enable them in other operations, rebuild TensorFlow with the appropriate compiler flags.\n"
     ]
    },
    {
     "name": "stdout",
     "output_type": "stream",
     "text": [
      "Model: \"sequential\"\n",
      "____________________________________________________________________________________________________\n",
      " Layer (type)                                Output Shape                            Param #        \n",
      "====================================================================================================\n",
      " conv1d (Conv1D)                             (None, 76, 64)                          2112           \n",
      "                                                                                                    \n",
      " max_pooling1d (MaxPooling1D)                (None, 15, 64)                          0              \n",
      "                                                                                                    \n",
      " batch_normalization (BatchNormalization)    (None, 15, 64)                          256            \n",
      "                                                                                                    \n",
      " bidirectional (Bidirectional)               (None, 128)                             66048          \n",
      "                                                                                                    \n",
      " reshape (Reshape)                           (None, 128, 1)                          0              \n",
      "                                                                                                    \n",
      " max_pooling1d_1 (MaxPooling1D)              (None, 25, 1)                           0              \n",
      "                                                                                                    \n",
      " batch_normalization_1 (BatchNormalization)  (None, 25, 1)                           4              \n",
      "                                                                                                    \n",
      " bidirectional_1 (Bidirectional)             (None, 256)                             133120         \n",
      "                                                                                                    \n",
      " dropout (Dropout)                           (None, 256)                             0              \n",
      "                                                                                                    \n",
      " dense (Dense)                               (None, 4)                               1028           \n",
      "                                                                                                    \n",
      " activation (Activation)                     (None, 4)                               0              \n",
      "                                                                                                    \n",
      "====================================================================================================\n",
      "Total params: 202,568\n",
      "Trainable params: 202,438\n",
      "Non-trainable params: 130\n",
      "____________________________________________________________________________________________________\n"
     ]
    }
   ],
   "source": [
    "from itertools import cycle\n",
    "import pickle\n",
    "import sys\n",
    "import time\n",
    "from typing import List, Tuple\n",
    "\n",
    "import matplotlib.pyplot as plt\n",
    "import numpy as np\n",
    "import pandas as pd\n",
    "from sklearn import metrics\n",
    "from sklearn.model_selection import StratifiedKFold\n",
    "from sklearn.model_selection import train_test_split\n",
    "import sklearn.preprocessing\n",
    "import tensorflow as tf\n",
    "import tensorflow.keras\n",
    "from tensorflow.keras.layers import Dense, Dropout, Activation\n",
    "from tensorflow.keras.layers import LSTM, Bidirectional, BatchNormalization, Convolution1D, MaxPooling1D, Reshape\n",
    "from tensorflow.keras.models import Sequential\n",
    "\n",
    "%matplotlib inline\n",
    "\n",
    "batch_size = 32\n",
    "model = Sequential()\n",
    "model.add(Convolution1D(64, kernel_size=32, padding=\"same\",\n",
    "          activation=\"relu\", input_shape=(76, 1)))\n",
    "model.add(MaxPooling1D(pool_size=(5)))\n",
    "model.add(BatchNormalization())\n",
    "model.add(Bidirectional(LSTM(64, return_sequences=False)))\n",
    "model.add(Reshape((128, 1), input_shape=(128, )))\n",
    "\n",
    "model.add(MaxPooling1D(pool_size=(5)))\n",
    "model.add(BatchNormalization())\n",
    "model.add(Bidirectional(LSTM(128, return_sequences=False)))\n",
    "\n",
    "model.add(Dropout(0.5))\n",
    "model.add(Dense(4))\n",
    "model.add(Activation('softmax'))\n",
    "model.compile(loss='categorical_crossentropy',\n",
    "              optimizer='adam', metrics=['accuracy'])\n",
    "\n",
    "model.summary(line_length=100)\n",
    "\n",
    "cv = StratifiedKFold(n_splits=5, shuffle=True, random_state=42)\n",
    "scores = pd.DataFrame(columns=[1, 2, 3, 4, 5, 'Mean'],\n",
    "                      index=['Accuracy', 'Precision', 'Recall', 'F1'])"
   ]
  },
  {
   "cell_type": "code",
   "execution_count": 51,
   "metadata": {},
   "outputs": [
    {
     "data": {
      "text/plain": [
       "[' Fwd Packet Length Max',\n",
       " ' Flow IAT Std',\n",
       " ' Fwd Packet Length Std',\n",
       " 'Fwd IAT Total',\n",
       " ' Flow Duration',\n",
       " ' Fwd Packet Length Mean',\n",
       " ' Total Length of Bwd Packets',\n",
       " 'Total Length of Fwd Packets',\n",
       " ' Flow IAT Mean',\n",
       " ' Bwd Packet Length Mean',\n",
       " ' Flow IAT Max',\n",
       " ' Bwd Packet Length Std',\n",
       " ' Total Fwd Packets',\n",
       " ' Total Backward Packets',\n",
       " ' Label']"
      ]
     },
     "execution_count": 51,
     "metadata": {},
     "output_type": "execute_result"
    }
   ],
   "source": [
    "features=[\" Fwd Packet Length Max\",\" Flow IAT Std\",\" Fwd Packet Length Std\" ,\"Fwd IAT Total\",' Flow Duration', \" Fwd Packet Length Mean\", \" Total Length of Bwd Packets\", \"Total Length of Fwd Packets\", \" Flow IAT Mean\", \" Bwd Packet Length Mean\",  \" Flow IAT Max\", \" Bwd Packet Length Std\", ' Total Fwd Packets', ' Total Backward Packets',' Label']\n",
    "features"
   ]
  },
  {
   "cell_type": "code",
   "execution_count": 52,
   "metadata": {},
   "outputs": [],
   "source": [
    "# Bwd Packet Length Std \n",
    "#  PSH Flag Count \n",
    "#  min_seg_size_forward\n",
    "#  Min Packet Length    \n",
    "#  ACK Flag Count \n",
    "#  Bwd Packet Length Min\n",
    "#  Fwd IAT Std  \n",
    "# Init_Win_bytes_forward         \n",
    "#  Flow IAT Max                  \n",
    "#  Bwd Packets/s\n",
    "#  URG Flag Count \n",
    "# Bwd IAT Total                  \n",
    "#  Init_Win_bytes_backward       \n",
    "#  Destination Port              \n",
    "#  Idle Min   \n",
    "#  Flow Duration                 \n",
    "# Fwd IAT Total                  \n",
    "#  Subflow Fwd Bytes             \n",
    "# Total Length of Fwd Packets    \n",
    "#  Fwd Packet Length Mean\n",
    "#  Avg Fwd Segment Size\n",
    "#  Flow IAT Mean\n",
    "#  Fwd Packet Length Min\n",
    "#  Bwd IAT Max\n",
    "#  Fwd Packet Length Max\n",
    "\n",
    "# https://www.kaggle.com/code/omrastogi/cicidsclassifiers"
   ]
  },
  {
   "cell_type": "code",
   "execution_count": null,
   "metadata": {},
   "outputs": [],
   "source": []
  }
 ],
 "metadata": {
  "colab": {
   "collapsed_sections": [],
   "machine_shape": "hm",
   "name": "Copy of Copy of K fold Separate Notebook A.ipynb",
   "provenance": [],
   "toc_visible": true
  },
  "kernelspec": {
   "display_name": "Python 3",
   "language": "python",
   "name": "python3"
  },
  "language_info": {
   "codemirror_mode": {
    "name": "ipython",
    "version": 3
   },
   "file_extension": ".py",
   "mimetype": "text/x-python",
   "name": "python",
   "nbconvert_exporter": "python",
   "pygments_lexer": "ipython3",
   "version": "3.8.10"
  },
  "vscode": {
   "interpreter": {
    "hash": "916dbcbb3f70747c44a77c7bcd40155683ae19c65e1c03b4aa3499c5328201f1"
   }
  }
 },
 "nbformat": 4,
 "nbformat_minor": 4
}
